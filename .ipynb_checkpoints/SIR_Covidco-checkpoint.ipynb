{
 "cells": [
  {
   "cell_type": "code",
   "execution_count": 1,
   "metadata": {
    "colab": {
     "base_uri": "https://localhost:8080/",
     "height": 208
    },
    "colab_type": "code",
    "id": "UcMw4yNrg1Oh",
    "outputId": "d6c247c7-e857-4edc-c309-eccd7a7d8567"
   },
   "outputs": [],
   "source": [
    "#!pip install lmfit\n",
    "#!pip install requests\n",
    "from matplotlib import pyplot as plt\n",
    "import numpy as np\n",
    "from scipy.integrate import odeint\n",
    "import pandas as pd\n",
    "from lmfit import Parameters, minimize, report_fit\n",
    "import requests"
   ]
  },
  {
   "cell_type": "code",
   "execution_count": 2,
   "metadata": {
    "colab": {
     "base_uri": "https://localhost:8080/",
     "height": 52
    },
    "colab_type": "code",
    "id": "MYAUMnFgUj40",
    "outputId": "1e2555ea-5caa-4348-9efe-234d904ab1e7"
   },
   "outputs": [
    {
     "name": "stdout",
     "output_type": "stream",
     "text": [
      "815099\n",
      "815100 97\n"
     ]
    }
   ],
   "source": [
    "r = requests.get('https://api.covid19api.com/dayone/country/morocco')\n",
    "res=r.json()\n",
    "df=pd.DataFrame(res)\n",
    "df.to_csv('ma.csv',index=False)\n",
    "c=np.array(df['Confirmed'])\n",
    "a=np.array(df['Active'])\n",
    "r=np.array(df['Recovered'])\n",
    "d=np.array(df['Deaths'])\n",
    "N=100np.max(c)\n",
    "\n",
    "s=N-a-r-d\n",
    "p=1\n",
    "print(np.max(s))\n",
    "print(N,a.shape[0])"
   ]
  },
  {
   "cell_type": "code",
   "execution_count": 3,
   "metadata": {
    "colab": {
     "base_uri": "https://localhost:8080/",
     "height": 34
    },
    "colab_type": "code",
    "id": "jAG_xiK1Jwcg",
    "outputId": "ae335f7b-2538-4753-deb4-069c01e2b0df"
   },
   "outputs": [
    {
     "data": {
      "text/plain": [
       "(-1.22684333210649e-05, -0.29998773156667896, 0.2, 0.1)"
      ]
     },
     "execution_count": 3,
     "metadata": {},
     "output_type": "execute_result"
    }
   ],
   "source": [
    "# SIRD Model\n",
    "## Input:\n",
    "### y: valeur actuel de S I R et D\n",
    "### t: L'instant temps\n",
    "### N: Population total\n",
    "### beta:\n",
    "### gamma: \n",
    "### sigma:\n",
    "## Output\n",
    "### la variation de S I R et D\n",
    "\n",
    "def deriv(y, x, N, beta, gamma, sigma):\n",
    "    S, I, R , D = y\n",
    "    dSdt = -beta * I *(S/ N)**p\n",
    "    dIdt = beta * I * (S/ N)**p - (gamma +sigma) * I\n",
    "    dRdt = gamma * I\n",
    "    dDdt = sigma * I\n",
    "    return dSdt, dIdt, dRdt , dDdt\n",
    "\n",
    "\n",
    "#Test de la fonction deriv\n",
    "deriv([10, 1, 0, 0],1,N, 1, 0.2, 0.1)\n",
    "\n"
   ]
  },
  {
   "cell_type": "code",
   "execution_count": 4,
   "metadata": {
    "colab": {},
    "colab_type": "code",
    "id": "aMVB9wIlhw2I"
   },
   "outputs": [],
   "source": [
    "#Integration du model sur tous les points x=[x1,....,xn] avec condition initial y0\n",
    "#y0 = S0, I0, R0, D0\n",
    "#S0 = N - I0 - R0 - D0\n",
    "def f(params,x,y0):\n",
    "    N= params[\"N\"]\n",
    "    # Integrate the SIR equations over the time grid, t.\n",
    "    beta= params[\"beta\"].value\n",
    "    gamma= params[\"gamma\"].value\n",
    "    sigma= params[\"sigma\"].value\n",
    "    return odeint(deriv, y0, x, args=(N,beta, gamma, sigma)).T"
   ]
  },
  {
   "cell_type": "code",
   "execution_count": 5,
   "metadata": {
    "colab": {},
    "colab_type": "code",
    "id": "WSloZwUXIS9d"
   },
   "outputs": [],
   "source": [
    "#Algorithm de l'article de Mr Karami\n",
    "def fahd(params,x,y0):\n",
    "    n=x.size\n",
    "    N= params[\"N\"]\n",
    "    beta= params[\"beta\"].value\n",
    "    gamma= params[\"gamma\"].value\n",
    "    sigma= params[\"sigma\"].value\n",
    "    tau=x[1]-x[0]\n",
    "    S=np.empty(n+1)\n",
    "    I=np.empty(n+1)\n",
    "    R=np.empty(n+1)\n",
    "    D=np.empty(n+1)\n",
    "    S[0]=y0[0]\n",
    "    I[0]=y0[1]\n",
    "    R[0]=y0[2]\n",
    "    D[0]=y0[3]\n",
    "    \n",
    "    for k in range(n):\n",
    "        root=np.sqrt((tau*(gamma+sigma)+1-tau*(beta/N)*(S[k]+I[k]))**2+4.*tau*(beta/N)*(tau*(gamma+sigma)+1.)*I[k])\n",
    "        rest=(tau*(gamma+sigma)+1.-tau*(beta/N)*(S[k]+I[k]))\n",
    "        den=(2.*tau*(beta/N)*(1.+tau*(gamma+sigma)))\n",
    "        I[k+1]=(root -rest)/den\n",
    "        S[k+1]=S[k]/(1+tau*(beta/N)*I[k+1])\n",
    "        R[k+1]=R[k]+tau*gamma*I[k+1]\n",
    "        D[k+1]=D[k]+tau*sigma*I[k+1]\n",
    "    S=S[0:-1].tolist()\n",
    "    I=I[0:-1].tolist()\n",
    "    R=R[0:-1].tolist()\n",
    "    D=D[0:-1].tolist()\n",
    "    return np.array([S,I,R,D])\n",
    "\n",
    "  "
   ]
  },
  {
   "cell_type": "code",
   "execution_count": 6,
   "metadata": {
    "colab": {
     "base_uri": "https://localhost:8080/",
     "height": 34
    },
    "colab_type": "code",
    "id": "Ha2zpHOgvJDQ",
    "outputId": "e3a3433a-096d-4cf4-9605-e1b06d12821b"
   },
   "outputs": [
    {
     "name": "stdout",
     "output_type": "stream",
     "text": [
      "N: 815100\n"
     ]
    }
   ],
   "source": [
    "fit_params = Parameters()\n",
    "fit_params.add('N', value=N,vary=False)\n",
    "fit_params.add('p', value=1, vary=True,min=1, max=40)\n",
    "fit_params.add('beta', value=0.002, min=0, max=4.0)\n",
    "fit_params.add('gamma', value=0.0002, min=0, max=1.0)\n",
    "fit_params.add('sigma', value=0.0001, min=0, max=1.0)\n",
    "N=fit_params['N'].value\n",
    "print('N:',N)\n",
    "#Test de f\n",
    "#x=np.linspace(1,2,10)\n",
    "y0=[N-1,1,0,0]\n",
    "data=np.array([s[1:],a[1:],r[1:],d[1:]])"
   ]
  },
  {
   "cell_type": "code",
   "execution_count": 7,
   "metadata": {
    "colab": {
     "base_uri": "https://localhost:8080/",
     "height": 300
    },
    "colab_type": "code",
    "id": "cCEfRahXwNIH",
    "outputId": "83531155-a32c-4b2b-d41f-279adbf66e2a"
   },
   "outputs": [
    {
     "name": "stdout",
     "output_type": "stream",
     "text": [
      "CPU times: user 57.4 ms, sys: 7.5 ms, total: 64.9 ms\n",
      "Wall time: 309 ms\n"
     ]
    },
    {
     "data": {
      "text/plain": [
       "[<matplotlib.lines.Line2D at 0x7f864d739050>]"
      ]
     },
     "execution_count": 7,
     "metadata": {},
     "output_type": "execute_result"
    },
    {
     "data": {
      "image/png": "[encoded data removed]",
      "text/plain": [
       "<Figure size 432x288 with 1 Axes>"
      ]
     },
     "metadata": {
      "needs_background": "light"
     },
     "output_type": "display_data"
    }
   ],
   "source": [
    "%%time\n",
    "#Resolution using Fahd\n",
    "tau = .1\n",
    "x=np.linspace(tau,a.shape[0],int((a.shape[0])/tau))\n",
    "y=fahd(fit_params,x,y0)\n",
    "\n",
    "#Plot estimated data using odint\n",
    "#plt.plot(y[0], label=\"Sr\",color='blue')\n",
    "plt.plot(y[1], label=\"Is\",color='red')\n",
    "plt.plot(y[2],label=\"Rs\", color='green')\n",
    "plt.plot(y[3],label=\"Ds\", color='gray')"
   ]
  },
  {
   "cell_type": "code",
   "execution_count": 8,
   "metadata": {
    "colab": {
     "base_uri": "https://localhost:8080/",
     "height": 300
    },
    "colab_type": "code",
    "id": "1ui89D0evL9G",
    "outputId": "483bd379-8554-47be-cf99-8f1b0ceb2656"
   },
   "outputs": [
    {
     "name": "stdout",
     "output_type": "stream",
     "text": [
      "CPU times: user 21.7 ms, sys: 3.85 ms, total: 25.5 ms\n",
      "Wall time: 25.5 ms\n"
     ]
    },
    {
     "data": {
      "text/plain": [
       "[<matplotlib.lines.Line2D at 0x7f864cef8bd0>]"
      ]
     },
     "execution_count": 8,
     "metadata": {},
     "output_type": "execute_result"
    },
    {
     "data": {
      "image/png": "[encoded data removed]",
      "text/plain": [
       "<Figure size 432x288 with 1 Axes>"
      ]
     },
     "metadata": {
      "needs_background": "light"
     },
     "output_type": "display_data"
    }
   ],
   "source": [
    "%%time\n",
    "#Resolution using odint\n",
    "p=1\n",
    "y=f(fit_params,x,y0)\n",
    "\n",
    "#Plot estimated data using odint\n",
    "#plt.plot(y[0], label=\"Sr\",color='blue')\n",
    "plt.plot(y[1], label=\"Is\",color='red')\n",
    "plt.plot(y[2],label=\"Rs\", color='green')\n",
    "plt.plot(y[3],label=\"Ds\", color='gray')"
   ]
  },
  {
   "cell_type": "code",
   "execution_count": 9,
   "metadata": {
    "colab": {},
    "colab_type": "code",
    "id": "V49hL1qFiDXM"
   },
   "outputs": [],
   "source": [
    "#Algorithm de l'article de Mr Karami\n",
    "def fahdFix(params,x,y0):\n",
    "    n=x.size\n",
    "    N= params[\"N\"]\n",
    "    pp= params[\"p\"].value\n",
    "    beta= params[\"beta\"].value\n",
    "    gamma= params[\"gamma\"].value\n",
    "    sigma= params[\"sigma\"].value\n",
    "    tau=x[1]-x[0]\n",
    "    S=np.empty(n+1)\n",
    "    I=np.empty(n+1)\n",
    "    R=np.empty(n+1)\n",
    "    D=np.empty(n+1)\n",
    "    P=np.ones(n+1)\n",
    "    for i in range(tc,tc+eps+1):\n",
    "      P[i]=1+(pp-1)*(i-tc)/eps \n",
    "    for i in range(tc+eps+1,n+1):\n",
    "      P[i]=pp \n",
    "    S[0]=y0[0]\n",
    "    I[0]=y0[1]\n",
    "    R[0]=y0[2]\n",
    "    D[0]=y0[3]\n",
    "    theta=(S[0]/N)**(P[0]-1)\n",
    "    for k in range(n):\n",
    "        Err=1\n",
    "        II=I[k]\n",
    "        theta=(S[k]/N)**(P[k]-1)\n",
    "        while Err>1e-10:\n",
    "            root=np.sqrt((tau*(gamma+sigma)+1.-tau*(beta/N)*(S[k]+I[k])*theta)**2+(4*tau*(beta/N)*(tau*(gamma+sigma)+1)*theta*I[k]))\n",
    "            rest=(tau*(gamma+sigma)+1)-tau*(beta/N)*(S[k]+I[k])*theta\n",
    "            den=2*tau*(beta/N)*(1.+tau*(gamma+sigma))*theta\n",
    "            III=(root-rest)/den\n",
    "            SS=S[k]/(1.+(tau*(beta/N)*III*theta))\n",
    "            RR=R[k]+tau*gamma*III\n",
    "            DD=D[k]+tau*sigma*III\n",
    "            theta1=(SS/N)**(P[k+1]-1)\n",
    "            #Err=abs(II-III)\n",
    "            Err=abs(theta-theta1)\n",
    "            II=III\n",
    "            theta=theta1\n",
    "            #print(Err)\n",
    "        S[k+1],I[k+1],R[k+1],D[k+1]=SS,II,RR,DD\n",
    "        #print(\"===========================================================================\")\n",
    "    S=S[1:].tolist()\n",
    "    I=I[1:].tolist()\n",
    "    R=R[1:].tolist()\n",
    "    D=D[1:].tolist()\n",
    "    return np.array([S,I,R,D])"
   ]
  },
  {
   "cell_type": "code",
   "execution_count": 10,
   "metadata": {
    "colab": {
     "base_uri": "https://localhost:8080/",
     "height": 300
    },
    "colab_type": "code",
    "id": "IyCvj6Nthmta",
    "outputId": "bd0d0e98-55a7-49e0-c3c7-e5c1bc224c2a",
    "scrolled": true
   },
   "outputs": [
    {
     "name": "stdout",
     "output_type": "stream",
     "text": [
      "CPU times: user 102 ms, sys: 0 ns, total: 102 ms\n",
      "Wall time: 101 ms\n"
     ]
    },
    {
     "data": {
      "text/plain": [
       "[<matplotlib.lines.Line2D at 0x7f864ce53c50>]"
      ]
     },
     "execution_count": 10,
     "metadata": {},
     "output_type": "execute_result"
    },
    {
     "data": {
      "image/png": "[encoded data removed]",
      "text/plain": [
       "<Figure size 432x288 with 1 Axes>"
      ]
     },
     "metadata": {
      "needs_background": "light"
     },
     "output_type": "display_data"
    }
   ],
   "source": [
    "%%time\n",
    "#Resolution using fahdFix\n",
    "tau=0.1\n",
    "tc=int(30/tau)#confinement\n",
    "eps=10\n",
    "n=x.size\n",
    "fit_params[\"p\"].value=2\n",
    "#print(P)\n",
    "yf=fahdFix(fit_params,x,y0)\n",
    "#Plot estimated data using Mr karami's Algorithm\n",
    "#plt.plot(yf[0],linestyle='dotted', label=\"Sr\",color='blue')\n",
    "plt.plot(yf[1],linestyle='dotted', label=\"Is\",color='red')\n",
    "plt.plot(yf[2],linestyle='dotted',label=\"Rs\", color='green')\n",
    "plt.plot(yf[3],linestyle='dotted',label=\"Ds\", color='gray')\n",
    "\n",
    "#plt.legend()"
   ]
  },
  {
   "cell_type": "code",
   "execution_count": 11,
   "metadata": {
    "colab": {},
    "colab_type": "code",
    "id": "2DnQfJbim0nH"
   },
   "outputs": [],
   "source": [
    "def objective(params,f,x,data,y0):\n",
    "    # Initial number of infected and recovered individuals, I0 and R0.\n",
    "    ndata, _ = data.shape\n",
    "    resid = 0.0*data[:]\n",
    "    ret=f(params,x,y0)\n",
    "    \n",
    "    for i in range(1,ndata):\n",
    "        resid[i, :] = data[i, :] - ret[i,:]\n",
    "    #resid=data[0, :] - ret[0,:]\n",
    "    return resid.flatten()"
   ]
  },
  {
   "cell_type": "code",
   "execution_count": null,
   "metadata": {
    "colab": {},
    "colab_type": "code",
    "id": "L2K6t31R2VK6"
   },
   "outputs": [],
   "source": [
    "y0=[N-1,1,0,0]\n",
    "tau = .01\n",
    "tc=20 #confinement\n",
    "eps=10\n",
    "X=np.linspace(tau,a.shape[0],int((a.shape[0])/tau))\n",
    "npArray = np.arange(0,int((a.shape[0]-1)/tau) , int(1/tau))\n",
    "yyy=X[npArray]\n",
    "\n",
    "outf = minimize(objective, fit_params,  args=(fahdFix,yyy,data,y0))\n",
    "fit_params[\"p\"].value=1\n",
    "out = minimize(objective, fit_params,  args=(f,yyy,data,y0))\n",
    "\n",
    "report_fit(out.params)\n",
    "report_fit(outf.params)\n",
    "y=f(out.params,yyy,[N-1,1,0,0])\n",
    "yf=fahdFix(outf.params,yyy,[N-1,1,0,0])\n",
    "\n",
    "## Plot real data\n",
    "#plt.plot(data[0],label=\"Sr\", color='blue')\n",
    "plt.plot(data[1],label=\"Ir\", color='red')\n",
    "plt.plot(data[2],label=\"Rr\", color='green')\n",
    "plt.plot(data[3],label=\"Dr\", color='gray')\n",
    "\n",
    "#Plot estimated data using odint\n",
    "#plt.plot(yyy,y[0], label=\"Sr\",linestyle='dashed',color='blue')\n",
    "plt.plot(yyy,y[1], label=\"Is\",linestyle='dashed',color='red')\n",
    "plt.plot(yyy,y[2],label=\"Rs\",linestyle='dashed', color='green')\n",
    "plt.plot(yyy,y[3],label=\"Ds\",linestyle='dashed', color='gray')\n",
    "\n",
    "#Plot estimated data using Mr karami's Algorithm\n",
    "#plt.plot(yyy,yf[0],linestyle='dotted', label=\"Sr\",color='blue')\n",
    "plt.plot(yyy,yf[1],linestyle='dotted', label=\"Is\",color='red')\n",
    "plt.plot(yyy,yf[2],linestyle='dotted',label=\"Rs\", color='green')\n",
    "plt.plot(yyy,yf[3],linestyle='dotted',label=\"Ds\", color='gray')\n",
    "\n",
    "print(y.shape,yf.shape,data.shape)\n",
    "#plt.legend()\n"
   ]
  },
  {
   "cell_type": "code",
   "execution_count": null,
   "metadata": {
    "colab": {},
    "colab_type": "code",
    "id": "r1yjQsGnUj6N"
   },
   "outputs": [],
   "source": [
    "\n",
    "#hadi ca pourra t aider elle prend que les element qui nous interesse \n",
    "npArray = np.arange(1,int((a.shape[0]-1)/tau) , int(1/tau))\n",
    "yyy=X[npArray]"
   ]
  }
 ],
 "metadata": {
  "colab": {
   "collapsed_sections": [],
   "name": "sird5.ipynb",
   "provenance": []
  },
  "kernelspec": {
   "display_name": "Python 3",
   "language": "python",
   "name": "python3"
  },
  "language_info": {
   "codemirror_mode": {
    "name": "ipython",
    "version": 3
   },
   "file_extension": ".py",
   "mimetype": "text/x-python",
   "name": "python",
   "nbconvert_exporter": "python",
   "pygments_lexer": "ipython3",
   "version": "3.7.6"
  }
 },
 "nbformat": 4,
 "nbformat_minor": 1
}
