{
 "cells": [
  {
   "cell_type": "code",
   "execution_count": 1,
   "metadata": {
    "colab": {
     "base_uri": "https://localhost:8080/",
     "height": 358
    },
    "colab_type": "code",
    "id": "UcMw4yNrg1Oh",
    "outputId": "a9f45350-1e26-4cc5-d7b3-ca91124282b4"
   },
   "outputs": [],
   "source": [
    "from matplotlib import pyplot as plt\n",
    "import numpy as np\n",
    "from scipy.integrate import odeint\n",
    "import pandas as pd\n",
    "from lmfit import Parameters, minimize, report_fit\n",
    "import requests"
   ]
  },
  {
   "cell_type": "code",
   "execution_count": 22,
   "metadata": {},
   "outputs": [
    {
     "data": {
      "text/html": [
       "<div>\n",
       "<style scoped>\n",
       "    .dataframe tbody tr th:only-of-type {\n",
       "        vertical-align: middle;\n",
       "    }\n",
       "\n",
       "    .dataframe tbody tr th {\n",
       "        vertical-align: top;\n",
       "    }\n",
       "\n",
       "    .dataframe thead th {\n",
       "        text-align: right;\n",
       "    }\n",
       "</style>\n",
       "<table border=\"1\" class=\"dataframe\">\n",
       "  <thead>\n",
       "    <tr style=\"text-align: right;\">\n",
       "      <th></th>\n",
       "      <th>Country</th>\n",
       "      <th>CountryCode</th>\n",
       "      <th>Province</th>\n",
       "      <th>City</th>\n",
       "      <th>CityCode</th>\n",
       "      <th>Lat</th>\n",
       "      <th>Lon</th>\n",
       "      <th>Confirmed</th>\n",
       "      <th>Deaths</th>\n",
       "      <th>Recovered</th>\n",
       "      <th>Active</th>\n",
       "      <th>Date</th>\n",
       "    </tr>\n",
       "  </thead>\n",
       "  <tbody>\n",
       "    <tr>\n",
       "      <th>0</th>\n",
       "      <td>Morocco</td>\n",
       "      <td>MA</td>\n",
       "      <td></td>\n",
       "      <td></td>\n",
       "      <td></td>\n",
       "      <td>31.79</td>\n",
       "      <td>-7.09</td>\n",
       "      <td>1</td>\n",
       "      <td>0</td>\n",
       "      <td>0</td>\n",
       "      <td>1</td>\n",
       "      <td>2020-03-02T00:00:00Z</td>\n",
       "    </tr>\n",
       "    <tr>\n",
       "      <th>1</th>\n",
       "      <td>Morocco</td>\n",
       "      <td>MA</td>\n",
       "      <td></td>\n",
       "      <td></td>\n",
       "      <td></td>\n",
       "      <td>31.79</td>\n",
       "      <td>-7.09</td>\n",
       "      <td>1</td>\n",
       "      <td>0</td>\n",
       "      <td>0</td>\n",
       "      <td>1</td>\n",
       "      <td>2020-03-03T00:00:00Z</td>\n",
       "    </tr>\n",
       "    <tr>\n",
       "      <th>2</th>\n",
       "      <td>Morocco</td>\n",
       "      <td>MA</td>\n",
       "      <td></td>\n",
       "      <td></td>\n",
       "      <td></td>\n",
       "      <td>31.79</td>\n",
       "      <td>-7.09</td>\n",
       "      <td>1</td>\n",
       "      <td>0</td>\n",
       "      <td>0</td>\n",
       "      <td>1</td>\n",
       "      <td>2020-03-04T00:00:00Z</td>\n",
       "    </tr>\n",
       "    <tr>\n",
       "      <th>3</th>\n",
       "      <td>Morocco</td>\n",
       "      <td>MA</td>\n",
       "      <td></td>\n",
       "      <td></td>\n",
       "      <td></td>\n",
       "      <td>31.79</td>\n",
       "      <td>-7.09</td>\n",
       "      <td>2</td>\n",
       "      <td>0</td>\n",
       "      <td>0</td>\n",
       "      <td>2</td>\n",
       "      <td>2020-03-05T00:00:00Z</td>\n",
       "    </tr>\n",
       "    <tr>\n",
       "      <th>4</th>\n",
       "      <td>Morocco</td>\n",
       "      <td>MA</td>\n",
       "      <td></td>\n",
       "      <td></td>\n",
       "      <td></td>\n",
       "      <td>31.79</td>\n",
       "      <td>-7.09</td>\n",
       "      <td>2</td>\n",
       "      <td>0</td>\n",
       "      <td>0</td>\n",
       "      <td>2</td>\n",
       "      <td>2020-03-06T00:00:00Z</td>\n",
       "    </tr>\n",
       "    <tr>\n",
       "      <th>...</th>\n",
       "      <td>...</td>\n",
       "      <td>...</td>\n",
       "      <td>...</td>\n",
       "      <td>...</td>\n",
       "      <td>...</td>\n",
       "      <td>...</td>\n",
       "      <td>...</td>\n",
       "      <td>...</td>\n",
       "      <td>...</td>\n",
       "      <td>...</td>\n",
       "      <td>...</td>\n",
       "      <td>...</td>\n",
       "    </tr>\n",
       "    <tr>\n",
       "      <th>87</th>\n",
       "      <td>Morocco</td>\n",
       "      <td>MA</td>\n",
       "      <td></td>\n",
       "      <td></td>\n",
       "      <td></td>\n",
       "      <td>31.79</td>\n",
       "      <td>-7.09</td>\n",
       "      <td>7643</td>\n",
       "      <td>202</td>\n",
       "      <td>5195</td>\n",
       "      <td>2246</td>\n",
       "      <td>2020-05-28T00:00:00Z</td>\n",
       "    </tr>\n",
       "    <tr>\n",
       "      <th>88</th>\n",
       "      <td>Morocco</td>\n",
       "      <td>MA</td>\n",
       "      <td></td>\n",
       "      <td></td>\n",
       "      <td></td>\n",
       "      <td>31.79</td>\n",
       "      <td>-7.09</td>\n",
       "      <td>7714</td>\n",
       "      <td>202</td>\n",
       "      <td>5271</td>\n",
       "      <td>2241</td>\n",
       "      <td>2020-05-29T00:00:00Z</td>\n",
       "    </tr>\n",
       "    <tr>\n",
       "      <th>89</th>\n",
       "      <td>Morocco</td>\n",
       "      <td>MA</td>\n",
       "      <td></td>\n",
       "      <td></td>\n",
       "      <td></td>\n",
       "      <td>31.79</td>\n",
       "      <td>-7.09</td>\n",
       "      <td>7780</td>\n",
       "      <td>204</td>\n",
       "      <td>5401</td>\n",
       "      <td>2175</td>\n",
       "      <td>2020-05-30T00:00:00Z</td>\n",
       "    </tr>\n",
       "    <tr>\n",
       "      <th>90</th>\n",
       "      <td>Morocco</td>\n",
       "      <td>MA</td>\n",
       "      <td></td>\n",
       "      <td></td>\n",
       "      <td></td>\n",
       "      <td>31.79</td>\n",
       "      <td>-7.09</td>\n",
       "      <td>7807</td>\n",
       "      <td>205</td>\n",
       "      <td>5459</td>\n",
       "      <td>2143</td>\n",
       "      <td>2020-05-31T00:00:00Z</td>\n",
       "    </tr>\n",
       "    <tr>\n",
       "      <th>91</th>\n",
       "      <td>Morocco</td>\n",
       "      <td>MA</td>\n",
       "      <td></td>\n",
       "      <td></td>\n",
       "      <td></td>\n",
       "      <td>31.79</td>\n",
       "      <td>-7.09</td>\n",
       "      <td>7833</td>\n",
       "      <td>205</td>\n",
       "      <td>5893</td>\n",
       "      <td>1735</td>\n",
       "      <td>2020-06-01T00:00:00Z</td>\n",
       "    </tr>\n",
       "  </tbody>\n",
       "</table>\n",
       "<p>92 rows × 12 columns</p>\n",
       "</div>"
      ],
      "text/plain": [
       "    Country CountryCode Province City CityCode    Lat    Lon  Confirmed  \\\n",
       "0   Morocco          MA                         31.79  -7.09          1   \n",
       "1   Morocco          MA                         31.79  -7.09          1   \n",
       "2   Morocco          MA                         31.79  -7.09          1   \n",
       "3   Morocco          MA                         31.79  -7.09          2   \n",
       "4   Morocco          MA                         31.79  -7.09          2   \n",
       "..      ...         ...      ...  ...      ...    ...    ...        ...   \n",
       "87  Morocco          MA                         31.79  -7.09       7643   \n",
       "88  Morocco          MA                         31.79  -7.09       7714   \n",
       "89  Morocco          MA                         31.79  -7.09       7780   \n",
       "90  Morocco          MA                         31.79  -7.09       7807   \n",
       "91  Morocco          MA                         31.79  -7.09       7833   \n",
       "\n",
       "    Deaths  Recovered  Active                  Date  \n",
       "0        0          0       1  2020-03-02T00:00:00Z  \n",
       "1        0          0       1  2020-03-03T00:00:00Z  \n",
       "2        0          0       1  2020-03-04T00:00:00Z  \n",
       "3        0          0       2  2020-03-05T00:00:00Z  \n",
       "4        0          0       2  2020-03-06T00:00:00Z  \n",
       "..     ...        ...     ...                   ...  \n",
       "87     202       5195    2246  2020-05-28T00:00:00Z  \n",
       "88     202       5271    2241  2020-05-29T00:00:00Z  \n",
       "89     204       5401    2175  2020-05-30T00:00:00Z  \n",
       "90     205       5459    2143  2020-05-31T00:00:00Z  \n",
       "91     205       5893    1735  2020-06-01T00:00:00Z  \n",
       "\n",
       "[92 rows x 12 columns]"
      ]
     },
     "execution_count": 22,
     "metadata": {},
     "output_type": "execute_result"
    }
   ],
   "source": [
    "r = requests.get('https://api.covid19api.com/dayone/country/morocco')\n",
    "res=r.json()\n",
    "df=pd.DataFrame(res)\n",
    "c=df['Confirmed']\n",
    "a=df['Active']\n",
    "r=df['Recovered']\n",
    "d=df['Deaths']\n",
    "df"
   ]
  },
  {
   "cell_type": "code",
   "execution_count": 34,
   "metadata": {
    "colab": {
     "base_uri": "https://localhost:8080/",
     "height": 34
    },
    "colab_type": "code",
    "id": "aMVB9wIlhw2I",
    "outputId": "94cde8bf-1124-4db6-d244-a3564953e2d2"
   },
   "outputs": [
    {
     "data": {
      "text/plain": [
       "(-0.001, -0.29900000000000004, 0.2, 0.1)"
      ]
     },
     "execution_count": 34,
     "metadata": {},
     "output_type": "execute_result"
    }
   ],
   "source": [
    "# SIRD Model\n",
    "## Input:\n",
    "### y: valeur actuel de S I R et D\n",
    "### t: L'instant temps\n",
    "### N: Population total\n",
    "### beta:\n",
    "### gamma: \n",
    "### sigma:\n",
    "## Output\n",
    "### la variation de S I R et D\n",
    "\n",
    "def deriv(y, x, N, beta, gamma, sigma):\n",
    "    S, I, R , D = y\n",
    "    dSdt = -beta * S * I / N\n",
    "    dIdt = beta * S * I / N - gamma * I- sigma * I\n",
    "    dRdt = gamma * I\n",
    "    dDdt = sigma * I\n",
    "    return dSdt, dIdt, dRdt , dDdt\n",
    "\n",
    "#Test de la fonction deriv\n",
    "N=1e4\n",
    "deriv([10, 1, 0, 0],1,N, 1, 0.2, 0.1)\n"
   ]
  },
  {
   "cell_type": "code",
   "execution_count": 30,
   "metadata": {
    "colab": {},
    "colab_type": "code",
    "id": "V49hL1qFiDXM"
   },
   "outputs": [],
   "source": [
    "#Integration du model sur tous les points x=[x1,....,xn] avec condition initial y0\n",
    "#y0 = S0, I0, R0, D0\n",
    "#S0 = N - I0 - R0 - D0\n",
    "def f(params,x,y0):\n",
    "    N= params[\"N\"]\n",
    "    # Integrate the SIR equations over the time grid, t.\n",
    "    beta= params[\"beta\"].value\n",
    "    gamma= params[\"gamma\"].value\n",
    "    sigma= params[\"sigma\"].value\n",
    "    return odeint(deriv, y0, x, args=(N,beta, gamma, sigma)).T"
   ]
  },
  {
   "cell_type": "code",
   "execution_count": 39,
   "metadata": {
    "colab": {
     "base_uri": "https://localhost:8080/",
     "height": 299
    },
    "colab_type": "code",
    "id": "IyCvj6Nthmta",
    "outputId": "3a3a6b99-e646-420d-ab20-4df97fc9832e"
   },
   "outputs": [
    {
     "name": "stdout",
     "output_type": "stream",
     "text": [
      "N: 10000.0\n"
     ]
    },
    {
     "data": {
      "text/plain": [
       "<matplotlib.legend.Legend at 0x7fbc04b277d0>"
      ]
     },
     "execution_count": 39,
     "metadata": {},
     "output_type": "execute_result"
    },
    {
     "data": {
      "image/png": "[encoded data removed]",
      "text/plain": [
       "<Figure size 432x288 with 1 Axes>"
      ]
     },
     "metadata": {
      "needs_background": "light"
     },
     "output_type": "display_data"
    }
   ],
   "source": [
    "fit_params = Parameters()\n",
    "fit_params.add('N', value=N,vary=False)\n",
    "fit_params.add('beta', value=0.1, min=0, max=4.0)\n",
    "fit_params.add('gamma', value=0.01, min=0, max=1.0)\n",
    "fit_params.add('sigma', value=0.03, min=0, max=1.0)\n",
    "\n",
    "N=fit_params['N'].value\n",
    "print('N:',N)\n",
    "\n",
    "#Test de f\n",
    "x=np.linspace(0,92,92)\n",
    "y=f(fit_params,x,[N-1,1,0,0])\n",
    "data=np.array([a,r,d])\n",
    "\n",
    "plt.plot(data[0], label=\"Ir\")\n",
    "plt.plot(data[1],label=\"Rr\")\n",
    "plt.plot(data[2],label=\"Dr\")\n",
    "\n",
    "plt.plot(x,y[1], label=\"Is\")\n",
    "plt.plot(x,y[2],label=\"Rs\")\n",
    "plt.plot(x,y[3],label=\"Ds\")\n",
    "\n",
    "plt.legend()\n"
   ]
  },
  {
   "cell_type": "code",
   "execution_count": 37,
   "metadata": {
    "colab": {},
    "colab_type": "code",
    "id": "2DnQfJbim0nH"
   },
   "outputs": [],
   "source": [
    "def objective(params,f,x,data,y0):\n",
    "    # Initial number of infected and recovered individuals, I0 and R0.\n",
    "    ndata, _ = data.shape\n",
    "    resid = 0.0*data[:]\n",
    "    ret=f(params,x,y0)\n",
    "    for i in range(ndata):\n",
    "        resid[i, :] = data[i, :] - ret[i+1,:]\n",
    "    return resid.flatten()"
   ]
  },
  {
   "cell_type": "code",
   "execution_count": 38,
   "metadata": {
    "colab": {
     "base_uri": "https://localhost:8080/",
     "height": 435
    },
    "colab_type": "code",
    "id": "L2K6t31R2VK6",
    "outputId": "42e775d7-4e5f-475c-a60f-2a1e21abe68c"
   },
   "outputs": [
    {
     "name": "stdout",
     "output_type": "stream",
     "text": [
      "[[Variables]]\n",
      "    N:      10000 (fixed)\n",
      "    beta:   3.99999197 +/- 119.323854 (2983.10%) (init = 1)\n",
      "    gamma:  0.01373724 +/- 0.00200654 (14.61%) (init = 0.01)\n",
      "    sigma:  0.01367384 +/- 0.00200425 (14.66%) (init = 0.03)\n",
      "[[Correlations]] (unreported correlations are < 0.100)\n",
      "    C(gamma, sigma) =  0.382\n",
      "    C(beta, sigma)  =  0.368\n",
      "    C(beta, gamma)  =  0.366\n"
     ]
    },
    {
     "data": {
      "text/plain": [
       "<matplotlib.legend.Legend at 0x7fbc0556a110>"
      ]
     },
     "execution_count": 38,
     "metadata": {},
     "output_type": "execute_result"
    },
    {
     "data": {
      "image/png": "[encoded data removed]",
      "text/plain": [
       "<Figure size 432x288 with 1 Axes>"
      ]
     },
     "metadata": {
      "needs_background": "light"
     },
     "output_type": "display_data"
    }
   ],
   "source": [
    "y0=[1e6,1,0,0]\n",
    "out = minimize(objective, fit_params, args=(f,x,data,y0))\n",
    "out\n",
    "report_fit(out.params)\n",
    "x=np.linspace(0,92,92)\n",
    "y=f(out.params,x,[N-1,1,0,0])\n",
    "data=np.array([a,r,d])\n",
    "\n",
    "plt.plot(data[0], label=\"Ir\")\n",
    "plt.plot(data[1],label=\"Rr\")\n",
    "plt.plot(data[2],label=\"Dr\")\n",
    "\n",
    "plt.plot(x,y[1], label=\"Is\")\n",
    "plt.plot(x,y[2],label=\"Rs\")\n",
    "plt.plot(x,y[3],label=\"Ds\")\n",
    "\n",
    "plt.legend()\n"
   ]
  },
  {
   "cell_type": "code",
   "execution_count": null,
   "metadata": {},
   "outputs": [],
   "source": []
  }
 ],
 "metadata": {
  "colab": {
   "collapsed_sections": [],
   "name": "sir.ipynb",
   "provenance": []
  },
  "kernelspec": {
   "display_name": "Python 3",
   "language": "python",
   "name": "python3"
  },
  "language_info": {
   "codemirror_mode": {
    "name": "ipython",
    "version": 3
   },
   "file_extension": ".py",
   "mimetype": "text/x-python",
   "name": "python",
   "nbconvert_exporter": "python",
   "pygments_lexer": "ipython3",
   "version": "3.7.6"
  }
 },
 "nbformat": 4,
 "nbformat_minor": 1
}
