{
 "cells": [
  {
   "cell_type": "code",
   "execution_count": 1,
   "metadata": {
    "colab": {
     "base_uri": "https://localhost:8080/",
     "height": 358
    },
    "colab_type": "code",
    "id": "UcMw4yNrg1Oh",
    "outputId": "a9f45350-1e26-4cc5-d7b3-ca91124282b4"
   },
   "outputs": [],
   "source": [
    "from matplotlib import pyplot as plt\n",
    "import numpy as np\n",
    "from scipy.integrate import odeint\n",
    "import pandas as pd\n",
    "from lmfit import Parameters, minimize, report_fit\n",
    "import requests"
   ]
  },
  {
   "cell_type": "code",
   "execution_count": 2,
   "metadata": {},
   "outputs": [
    {
     "name": "stdout",
     "output_type": "stream",
     "text": [
      "7832\n",
      "7833 92\n"
     ]
    }
   ],
   "source": [
    "r = requests.get('https://api.covid19api.com/dayone/country/morocco')\n",
    "res=r.json()\n",
    "df=pd.DataFrame(res)\n",
    "df.to_csv('ma.csv',index=False)\n",
    "c=np.array(df['Confirmed'])\n",
    "a=np.array(df['Active'])\n",
    "r=np.array(df['Recovered'])\n",
    "d=np.array(df['Deaths'])\n",
    "N=np.max(c)\n",
    "s=N-a-r-d\n",
    "print(np.max(s))\n",
    "print(N,a.shape[0])"
   ]
  },
  {
   "cell_type": "code",
   "execution_count": 3,
   "metadata": {
    "colab": {
     "base_uri": "https://localhost:8080/",
     "height": 34
    },
    "colab_type": "code",
    "id": "aMVB9wIlhw2I",
    "outputId": "94cde8bf-1124-4db6-d244-a3564953e2d2"
   },
   "outputs": [
    {
     "data": {
      "text/plain": [
       "(-0.0012766500702157538, -0.2987233499297843, 0.2, 0.1)"
      ]
     },
     "execution_count": 3,
     "metadata": {},
     "output_type": "execute_result"
    }
   ],
   "source": [
    "# SIRD Model\n",
    "## Input:\n",
    "### y: valeur actuel de S I R et D\n",
    "### t: L'instant temps\n",
    "### N: Population total\n",
    "### beta:\n",
    "### gamma: \n",
    "### sigma:\n",
    "## Output\n",
    "### la variation de S I R et D\n",
    "\n",
    "def deriv(y, x, N, beta, gamma, sigma):\n",
    "    S, I, R , D = y\n",
    "    dSdt = -beta * S * I / N\n",
    "    dIdt = beta * S * I / N - gamma * I- sigma * I\n",
    "    dRdt = gamma * I\n",
    "    dDdt = sigma * I\n",
    "    return dSdt, dIdt, dRdt , dDdt\n",
    "\n",
    "#Test de la fonction deriv\n",
    "deriv([10, 1, 0, 0],1,N, 1, 0.2, 0.1)\n"
   ]
  },
  {
   "cell_type": "code",
   "execution_count": 42,
   "metadata": {},
   "outputs": [],
   "source": [
    "def derivf(y,x,N,beta,gamma,sigma):\n",
    "    S, I, R , D = y\n",
    "    theta=(S/N)**1\n",
    "    tau=1\n",
    "    p=1\n",
    "    i=0\n",
    "    while i<1000:\n",
    "        i=i+1\n",
    "        root=((gamma+sigma+1-tau/N*beta*(S+I)*theta)**2+4*tau/N*beta*(gamma+sigma+1)*theta*I)**0.5\n",
    "        rest=(gamma+sigma+1)-tau*beta/N*(S+I)*theta\n",
    "        den=2*tau*beta/N*(1+gamma+sigma)\n",
    "        dIdt=(root -rest)/den - I\n",
    "        dSdt=S/(1+tau*beta/N*(I+dIdt)*theta)\n",
    "        dRdt=R+tau*gamma*(I+dIdt)\n",
    "        dDdt=D+tau*sigma*(I+dIdt)\n",
    "        theta=((S+dSdt)/N)**(p-1)\n",
    "        if abs(dIdt)<0.01: break\n",
    "    return dSdt,dIdt,dRdt,dDdt"
   ]
  },
  {
   "cell_type": "code",
   "execution_count": 43,
   "metadata": {
    "colab": {},
    "colab_type": "code",
    "id": "V49hL1qFiDXM"
   },
   "outputs": [],
   "source": [
    "#Integration du model sur tous les points x=[x1,....,xn] avec condition initial y0\n",
    "#y0 = S0, I0, R0, D0\n",
    "#S0 = N - I0 - R0 - D0\n",
    "def f(params,x,y0):\n",
    "    N= params[\"N\"]\n",
    "    # Integrate the SIR equations over the time grid, t.\n",
    "    beta= params[\"beta\"].value\n",
    "    gamma= params[\"gamma\"].value\n",
    "    sigma= params[\"sigma\"].value\n",
    "    return odeint(deriv, y0, x, args=(N,beta, gamma, sigma)).T"
   ]
  },
  {
   "cell_type": "code",
   "execution_count": 44,
   "metadata": {},
   "outputs": [],
   "source": [
    "#Integration du model sur tous les points x=[x1,....,xn] avec condition initial y0\n",
    "#y0 = S0, I0, R0, D0\n",
    "#S0 = N - I0 - R0 - D0\n",
    "def ff(params,x,y0):\n",
    "    N= params[\"N\"]\n",
    "    # Integrate the SIR equations over the time grid, t.\n",
    "    beta= params[\"beta\"].value\n",
    "    gamma= params[\"gamma\"].value\n",
    "    sigma= params[\"sigma\"].value\n",
    "    return odeint(derivf, y0, x, args=(N,beta, gamma, sigma)).T"
   ]
  },
  {
   "cell_type": "code",
   "execution_count": 45,
   "metadata": {},
   "outputs": [],
   "source": [
    "#Algorithm de l'article de Mr Karami\n",
    "def fahd(params,x,y0):\n",
    "    n=a.shape[0]\n",
    "    N= params[\"N\"]\n",
    "    beta= params[\"beta\"].value\n",
    "    gamma= params[\"gamma\"].value\n",
    "    sigma= params[\"sigma\"].value\n",
    "    tau=1\n",
    "    S=np.empty(n)\n",
    "    I=np.empty(n)\n",
    "    R=np.empty(n)\n",
    "    D=np.empty(n)\n",
    "    S[0]=y0[0]\n",
    "    I[0]=y0[1]\n",
    "    R[0]=y0[2]\n",
    "    D[0]=y0[3]\n",
    "    \n",
    "    for k in range(n-1):\n",
    "        root=((gamma+sigma+1-tau*(beta/N)*(S[k]+I[k]))**2+4*tau*(beta/N)*(gamma+sigma+1)*I[k])**(0.5)\n",
    "        rest=(gamma+sigma+1-tau*(beta/N)*(S[k]+I[k]))\n",
    "        den=(2*tau*(beta/N)*(1+gamma+sigma))\n",
    "        I[k+1]=(root -rest)/den\n",
    "        S[k+1]=S[k]/(1+tau*(beta/N)*I[k+1])\n",
    "        R[k+1]=R[k]+tau*gamma*I[k+1]\n",
    "        D[k+1]=D[k]+tau*sigma*I[k+1]\n",
    "    S=S[1:].tolist()\n",
    "    I=I[1:].tolist()\n",
    "    R=R[1:].tolist()\n",
    "    D=D[1:].tolist()\n",
    "    return np.array([S,I,R,D])\n",
    "        \n",
    "    "
   ]
  },
  {
   "cell_type": "code",
   "execution_count": 46,
   "metadata": {},
   "outputs": [],
   "source": [
    "#Algorithm de l'article de Mr Karami\n",
    "def fahdFix(params,x,y0):\n",
    "    n=a.shape[0]\n",
    "    N= params[\"N\"]\n",
    "    beta= params[\"beta\"].value\n",
    "    gamma= params[\"gamma\"].value\n",
    "    sigma= params[\"sigma\"].value\n",
    "    tau=1\n",
    "    S=np.empty(n)\n",
    "    I=np.empty(n)\n",
    "    R=np.empty(n)\n",
    "    D=np.empty(n)\n",
    "    P=np.ones(n)*1\n",
    "    #P[16:]=1.2\n",
    "    S[0]=y0[0]\n",
    "    I[0]=y0[1]\n",
    "    R[0]=y0[2]\n",
    "    D[0]=y0[3]\n",
    "    P[0]=1\n",
    "    \n",
    "    for k in range(n-1):\n",
    "        theta=(S[k]/N)**(P[k]-1)\n",
    "        i=0\n",
    "        while i<1000:\n",
    "            i=i+1\n",
    "            root=((gamma+sigma+1-tau/N*beta*(S[k]+I[k])*theta)**2+4*tau/N*beta*(gamma+sigma+1)*theta*I[k] )**0.5\n",
    "            rest=(gamma+sigma+1)-tau*beta/N*(S[k]+I[k])*theta\n",
    "            den=2*tau*beta/N*(1+gamma+sigma)\n",
    "            I[k+1]=(root -rest)/den\n",
    "            S[k+1]=S[k]/(1+tau*beta/N*I[k+1]*theta)\n",
    "            R[k+1]=R[k]+tau*gamma*I[k+1]\n",
    "            D[k+1]=D[k]+tau*sigma*I[k+1]\n",
    "            theta=(S[k+1]/N)**(P[k+1]-1)\n",
    "            if abs(I[k]-I[k+1])<0.01: break\n",
    "    S=S[1:].tolist()\n",
    "    I=I[1:].tolist()\n",
    "    R=R[1:].tolist()\n",
    "    D=D[1:].tolist()\n",
    "    return np.array([S,I,R,D])"
   ]
  },
  {
   "cell_type": "code",
   "execution_count": 47,
   "metadata": {
    "colab": {
     "base_uri": "https://localhost:8080/",
     "height": 299
    },
    "colab_type": "code",
    "id": "IyCvj6Nthmta",
    "outputId": "3a3a6b99-e646-420d-ab20-4df97fc9832e",
    "scrolled": true
   },
   "outputs": [
    {
     "name": "stdout",
     "output_type": "stream",
     "text": [
      "N: 7833\n",
      "<class 'numpy.ndarray'> <class 'numpy.ndarray'>\n",
      "7832\n",
      "7832\n"
     ]
    },
    {
     "data": {
      "text/plain": [
       "[<matplotlib.lines.Line2D at 0x7fdf27ee2710>]"
      ]
     },
     "execution_count": 47,
     "metadata": {},
     "output_type": "execute_result"
    },
    {
     "data": {
      "image/png": "[encoded data removed]",
      "text/plain": [
       "<Figure size 432x288 with 1 Axes>"
      ]
     },
     "metadata": {
      "needs_background": "light"
     },
     "output_type": "display_data"
    }
   ],
   "source": [
    "fit_params = Parameters()\n",
    "fit_params.add('N', value=N,vary=False)\n",
    "fit_params.add('beta', value=1, min=0, max=4.0)\n",
    "fit_params.add('gamma', value=0.11, min=0, max=1.0)\n",
    "fit_params.add('sigma', value=0.02, min=0, max=1.0)\n",
    "\n",
    "N=fit_params['N'].value\n",
    "print('N:',N)\n",
    "\n",
    "#Test de f\n",
    "x=np.linspace(1,92,91)\n",
    "y0=[N-1,1,0,0]\n",
    "y=f(fit_params,x,[N-a[0],1,0,0])\n",
    "yf=ff(fit_params,x,y0)\n",
    "print(type(y),type(yf))\n",
    "data=np.array([s[1:],a[1:],r[1:],d[1:]])\n",
    "print(np.max(s))\n",
    "print(np.max(data[0]))\n",
    "## Plot real data\n",
    "plt.plot(data[0],label=\"Sr\", color='blue')\n",
    "plt.plot(data[1],label=\"Ar\", color='red')\n",
    "plt.plot(data[2],label=\"Rr\", color='green')\n",
    "plt.plot(data[3],label=\"Dr\", color='gray')\n",
    "\n",
    "#Plot estimated data using odint\n",
    "plt.plot(y[0], label=\"Sr\",linestyle='dashed',color='blue')\n",
    "plt.plot(y[1], label=\"Is\",linestyle='dashed',color='red')\n",
    "plt.plot(y[2],label=\"Rs\",linestyle='dashed', color='green')\n",
    "plt.plot(y[3],label=\"Ds\",linestyle='dashed', color='gray')\n",
    "\n",
    "#Plot estimated data using Mr karami's Algorithm\n",
    "plt.plot(yf[0],linestyle='dotted', label=\"Sr\",color='blue')\n",
    "plt.plot(yf[1],linestyle='dotted', label=\"Is\",color='red')\n",
    "plt.plot(yf[2],linestyle='dotted',label=\"Rs\", color='green')\n",
    "plt.plot(yf[3],linestyle='dotted',label=\"Ds\", color='gray')\n",
    "\n",
    "#plt.legend()\n"
   ]
  },
  {
   "cell_type": "code",
   "execution_count": 48,
   "metadata": {
    "colab": {},
    "colab_type": "code",
    "id": "2DnQfJbim0nH"
   },
   "outputs": [],
   "source": [
    "def objective(params,f,x,data,y0):\n",
    "    # Initial number of infected and recovered individuals, I0 and R0.\n",
    "    ndata, _ = data.shape\n",
    "    resid = 0.0*data[:]\n",
    "    ret=f(params,x,y0)\n",
    "    for i in range(ndata):\n",
    "        resid[i, :] = data[i, :] - ret[i,:]\n",
    "    #resid=data[0, :] - ret[0,:]\n",
    "    return resid.flatten()"
   ]
  },
  {
   "cell_type": "code",
   "execution_count": null,
   "metadata": {},
   "outputs": [],
   "source": []
  },
  {
   "cell_type": "code",
   "execution_count": null,
   "metadata": {
    "colab": {
     "base_uri": "https://localhost:8080/",
     "height": 435
    },
    "colab_type": "code",
    "id": "L2K6t31R2VK6",
    "outputId": "42e775d7-4e5f-475c-a60f-2a1e21abe68c"
   },
   "outputs": [],
   "source": [
    "y0=[N-1,1,0,0]\n",
    "out = minimize(objective, fit_params,  args=(f,x,data,y0))\n",
    "outf = minimize(objective, fit_params,  args=(fahdFix,x,data,y0))\n",
    "\n",
    "report_fit(out.params)\n",
    "report_fit(outf.params)\n",
    "y=f(out.params,x,[N-1,1,0,0])\n",
    "yf=fahdFix(outf.params,x,[N-1,1,0,0])\n",
    "\n",
    "## Plot real data\n",
    "plt.plot(data[0],label=\"Sr\", color='blue')\n",
    "plt.plot(data[1],label=\"Ir\", color='red')\n",
    "plt.plot(data[2],label=\"Rr\", color='green')\n",
    "plt.plot(data[3],label=\"Dr\", color='gray')\n",
    "\n",
    "#Plot estimated data using odint\n",
    "plt.plot(y[0], label=\"Sr\",linestyle='dashed',color='blue')\n",
    "plt.plot(y[1], label=\"Is\",linestyle='dashed',color='red')\n",
    "plt.plot(y[2],label=\"Rs\",linestyle='dashed', color='green')\n",
    "plt.plot(y[3],label=\"Ds\",linestyle='dashed', color='gray')\n",
    "\n",
    "#Plot estimated data using Mr karami's Algorithm\n",
    "plt.plot(yf[0],linestyle='dotted', label=\"Sr\",color='blue')\n",
    "plt.plot(yf[1],linestyle='dotted', label=\"Is\",color='red')\n",
    "plt.plot(yf[2],linestyle='dotted',label=\"Rs\", color='green')\n",
    "plt.plot(yf[3],linestyle='dotted',label=\"Ds\", color='gray')\n",
    "\n",
    "\n",
    "plt.legend()\n"
   ]
  },
  {
   "cell_type": "code",
   "execution_count": null,
   "metadata": {},
   "outputs": [],
   "source": []
  }
 ],
 "metadata": {
  "colab": {
   "collapsed_sections": [],
   "name": "sir.ipynb",
   "provenance": []
  },
  "kernelspec": {
   "display_name": "Python 3",
   "language": "python",
   "name": "python3"
  },
  "language_info": {
   "codemirror_mode": {
    "name": "ipython",
    "version": 3
   },
   "file_extension": ".py",
   "mimetype": "text/x-python",
   "name": "python",
   "nbconvert_exporter": "python",
   "pygments_lexer": "ipython3",
   "version": "3.7.6"
  }
 },
 "nbformat": 4,
 "nbformat_minor": 1
}
