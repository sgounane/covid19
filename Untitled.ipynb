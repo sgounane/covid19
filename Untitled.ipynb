{
 "cells": [
  {
   "cell_type": "markdown",
   "metadata": {},
   "source": [
    "# import les leb"
   ]
  },
  {
   "cell_type": "code",
   "execution_count": 27,
   "metadata": {},
   "outputs": [],
   "source": [
    "from matplotlib import pyplot as plt\n",
    "import numpy as np\n",
    "from scipy.integrate import odeint\n",
    "import pandas as pd\n",
    "from lmfit import Parameters, minimize, report_fit"
   ]
  },
  {
   "cell_type": "code",
   "execution_count": 26,
   "metadata": {},
   "outputs": [
    {
     "name": "stdout",
     "output_type": "stream",
     "text": [
      "data: \n",
      " [[ 1  2  7 20 34 20]\n",
      " [ 1  2  7 20 34 20]\n",
      " [ 1  2  7 20 34 20]\n",
      " [ 1  2  7 20 34 20]]\n",
      "N: 200\n"
     ]
    }
   ],
   "source": [
    "N=200\n",
    "data=np.array([[1,2,7,20,34,20],[1,2,7,20,34,20],[1,2,7,20,34,20],[1,2,7,20,34,20]])\n",
    "print('data: \\n', data)\n",
    "fit_params = Parameters()\n",
    "fit_params.add('N', value=N,vary=False)\n",
    "fit_params.add('beta', value=0.4, min=0, max=4.0)\n",
    "fit_params.add('gamma', value=0.03, min=0, max=1.0)\n",
    "fit_params.add('sigma', value=0.03, min=0, max=1.0)\n",
    "print('N:',fit_params['N'].value)"
   ]
  },
  {
   "cell_type": "code",
   "execution_count": null,
   "metadata": {},
   "outputs": [],
   "source": [
    "# SIRD Model\n",
    "## Input:\n",
    "### y: valeur actuel de S I R et D\n",
    "### t: L'instant temps\n",
    "### N: Population total\n",
    "### beta:\n",
    "### gamma: \n",
    "### sigma:\n",
    "\n",
    "## Output\n",
    "### la variation de S I R et D\n",
    "\n",
    "def deriv(y, t, N, beta, gamma, sigma):\n",
    "    S, I, R , D = y\n",
    "    dSdt = -beta * S * I / N\n",
    "    dIdt = beta * S * I / N - gamma * I- sigma * I\n",
    "    dRdt = gamma * I\n",
    "    dDdt = sigma * I\n",
    "    return dSdt, dIdt, dRdt , dDdt"
   ]
  },
  {
   "cell_type": "code",
   "execution_count": 16,
   "metadata": {},
   "outputs": [
    {
     "data": {
      "text/plain": [
       "(-0.1, -0.5, 0.4, 0.2)"
      ]
     },
     "execution_count": 16,
     "metadata": {},
     "output_type": "execute_result"
    }
   ],
   "source": [
    "#Test de la fonction deriv\n",
    "a=deriv([10, 2, 2, 1],6,N, 1, 0.2, 0.1)\n",
    "a"
   ]
  },
  {
   "cell_type": "code",
   "execution_count": null,
   "metadata": {},
   "outputs": [],
   "source": [
    "#Integration du model \n",
    "def f(params,x):\n",
    "    N= params[\"N\"]\n",
    "    I0, R0, D0 = 1, 0, 0\n",
    "    # Everyone else, S0, is susceptible to infection initially.\n",
    "    S0 = N - I0 - R0 - D0\n",
    "    y0 = S0, I0, R0, D0\n",
    "    # Integrate the SIR equations over the time grid, t.\n",
    "    beta= params[\"beta\"]\n",
    "    gamma= params[\"gamma\"]\n",
    "    sigma= params[\"sigma\"]\n",
    "    return odeint(deriv, y0, x, args=(N,beta, gamma, sigma)).T"
   ]
  },
  {
   "cell_type": "code",
   "execution_count": null,
   "metadata": {},
   "outputs": [],
   "source": [
    "def objective(params,f,x,data):\n",
    "    # Initial number of infected and recovered individuals, I0 and R0.\n",
    "    ndata, _ = data.shape\n",
    "    resid = 0.0*data[:]\n",
    "    ret=f(params,x)\n",
    "    for i in range(ndata):\n",
    "        resid[i, :] = data[i, :] - ret[i,:]\n",
    "    return resid.flatten()"
   ]
  }
 ],
 "metadata": {
  "kernelspec": {
   "display_name": "Python 3",
   "language": "python",
   "name": "python3"
  },
  "language_info": {
   "codemirror_mode": {
    "name": "ipython",
    "version": 3
   },
   "file_extension": ".py",
   "mimetype": "text/x-python",
   "name": "python",
   "nbconvert_exporter": "python",
   "pygments_lexer": "ipython3",
   "version": "3.7.6"
  }
 },
 "nbformat": 4,
 "nbformat_minor": 4
}
