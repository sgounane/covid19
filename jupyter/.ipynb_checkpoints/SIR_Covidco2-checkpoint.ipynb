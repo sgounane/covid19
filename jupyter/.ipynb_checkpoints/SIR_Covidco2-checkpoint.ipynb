{
 "cells": [
  {
   "cell_type": "code",
   "execution_count": 1,
   "metadata": {
    "colab": {
     "base_uri": "https://localhost:8080/",
     "height": 506
    },
    "colab_type": "code",
    "id": "UcMw4yNrg1Oh",
    "outputId": "51a33a65-e00c-4e35-ca6a-9a8a7726413c",
    "scrolled": true
   },
   "outputs": [
    {
     "name": "stdout",
     "output_type": "stream",
     "text": [
      "Requirement already satisfied: lmfit in /home/gnu/anaconda3/lib/python3.7/site-packages (1.0.1)\n",
      "Requirement already satisfied: numpy>=1.16 in /home/gnu/anaconda3/lib/python3.7/site-packages (from lmfit) (1.18.1)\n",
      "Requirement already satisfied: uncertainties>=3.0.1 in /home/gnu/anaconda3/lib/python3.7/site-packages (from lmfit) (3.1.2)\n",
      "Requirement already satisfied: scipy>=1.2 in /home/gnu/anaconda3/lib/python3.7/site-packages (from lmfit) (1.4.1)\n",
      "Requirement already satisfied: asteval>=0.9.16 in /home/gnu/anaconda3/lib/python3.7/site-packages (from lmfit) (0.9.18)\n",
      "Requirement already satisfied: requests in /home/gnu/anaconda3/lib/python3.7/site-packages (2.22.0)\n",
      "Requirement already satisfied: chardet<3.1.0,>=3.0.2 in /home/gnu/anaconda3/lib/python3.7/site-packages (from requests) (3.0.4)\n",
      "Requirement already satisfied: certifi>=2017.4.17 in /home/gnu/anaconda3/lib/python3.7/site-packages (from requests) (2019.11.28)\n",
      "Requirement already satisfied: urllib3!=1.25.0,!=1.25.1,<1.26,>=1.21.1 in /home/gnu/anaconda3/lib/python3.7/site-packages (from requests) (1.25.8)\n",
      "Requirement already satisfied: idna<2.9,>=2.5 in /home/gnu/anaconda3/lib/python3.7/site-packages (from requests) (2.8)\n"
     ]
    }
   ],
   "source": [
    "!pip install lmfit\n",
    "!pip install requests\n",
    "from matplotlib import pyplot as plt\n",
    "import numpy as np\n",
    "from scipy.integrate import odeint\n",
    "import pandas as pd\n",
    "from lmfit import Parameters, minimize, report_fit\n",
    "import requests\n",
    "\n",
    "Nma=36.89e6 #morocco\n",
    "Nsp=46.7e6 #Spain\n",
    "Nde=83.7e6 #Germany\n",
    "Nalg=43.8e6 #1lgeria\n",
    "Nmx=128.86e6 #mexico\n",
    "Nfr=65.26e6 #france\n",
    "\n",
    "N=Nma"
   ]
  },
  {
   "cell_type": "code",
   "execution_count": 3,
   "metadata": {
    "colab": {
     "base_uri": "https://localhost:8080/",
     "height": 34
    },
    "colab_type": "code",
    "id": "MYAUMnFgUj40",
    "outputId": "2763e5d7-4ffa-4e67-932c-c2aa68f5cc82"
   },
   "outputs": [
    {
     "name": "stdout",
     "output_type": "stream",
     "text": [
      "[36889998.0, 1, 0, 0]\n"
     ]
    }
   ],
   "source": [
    "def getCountryData(country,N):\n",
    "  r = requests.get('https://api.covid19api.com/dayone/country/'+country)\n",
    "  res=r.json()\n",
    "  df=pd.DataFrame(res)\n",
    "  df=df[df[\"Province\"]==\"\"]\n",
    "  df.to_csv('ma.csv',index=False)\n",
    "  c=np.array(df['Confirmed'])\n",
    "  a=np.array(df['Active'])\n",
    "  r=np.array(df['Recovered'])\n",
    "  d=np.array(df['Deaths'])\n",
    "  #N=np.max(c)\n",
    "  #N=21e6\n",
    "  s=N-a-r-d\n",
    "  y0=[s[0]-a[0],a[0],r[0],d[0]]\n",
    "  data=np.array([s[1:],a[1:],r[1:],d[1:]])\n",
    "  return y0,data,c\n",
    "y0,data,ac=getCountryData(\"MA\",N)\n",
    "print(y0)\n",
    "p=1\n"
   ]
  },
  {
   "cell_type": "code",
   "execution_count": 4,
   "metadata": {},
   "outputs": [
    {
     "name": "stdout",
     "output_type": "stream",
     "text": [
      "                            Country                            Slug ISO2\n",
      "0                           Ecuador                         ecuador   EC\n",
      "1                              Fiji                            fiji   FJ\n",
      "2                  Papua New Guinea                papua-new-guinea   PG\n",
      "3                        Antarctica                      antarctica   AQ\n",
      "4                     New Caledonia                   new-caledonia   NC\n",
      "..                              ...                             ...  ...\n",
      "243  Svalbard and Jan Mayen Islands  svalbard-and-jan-mayen-islands   SJ\n",
      "244                  American Samoa                  american-samoa   AS\n",
      "245                            Cuba                            cuba   CU\n",
      "246                         Eritrea                         eritrea   ER\n",
      "247                      Guadeloupe                      guadeloupe   GP\n",
      "\n",
      "[248 rows x 3 columns]\n"
     ]
    }
   ],
   "source": [
    "r = requests.get('https://api.covid19api.com/countries')\n",
    "res=r.json()\n",
    "df=pd.DataFrame(res)\n",
    "print(df)\n",
    "df.to_csv('countries.csv',index=False)"
   ]
  },
  {
   "cell_type": "code",
   "execution_count": 5,
   "metadata": {
    "colab": {
     "base_uri": "https://localhost:8080/",
     "height": 34
    },
    "colab_type": "code",
    "id": "jAG_xiK1Jwcg",
    "outputId": "fa484d32-d301-490e-a043-05f0437882a1"
   },
   "outputs": [
    {
     "data": {
      "text/plain": [
       "(-2.7107617240444563e-07, -0.29999972892382765, 0.2, 0.1)"
      ]
     },
     "execution_count": 5,
     "metadata": {},
     "output_type": "execute_result"
    }
   ],
   "source": [
    "# SIRD Model\n",
    "## Input:\n",
    "### y: valeur actuel de S I R et D\n",
    "### t: L'instant temps\n",
    "### N: Population total\n",
    "### beta:\n",
    "### gamma: \n",
    "### sigma:\n",
    "## Output\n",
    "### la variation de S I R et D\n",
    "\n",
    "def deriv(y, x, N, beta, gamma, sigma,p):\n",
    "    S, I, R , D = y\n",
    "    dSdt = -beta * I *(S/ N)**p\n",
    "    dIdt = beta * I * (S/ N)**p - (gamma +sigma) * I\n",
    "    dRdt = gamma * I\n",
    "    dDdt = sigma * I\n",
    "    return dSdt, dIdt, dRdt , dDdt\n",
    "\n",
    "\n",
    "#Test de la fonction deriv\n",
    "p=1\n",
    "deriv([10, 1, 0, 0],1,N, 1, 0.2, 0.1,1)\n",
    "\n"
   ]
  },
  {
   "cell_type": "code",
   "execution_count": 6,
   "metadata": {
    "colab": {},
    "colab_type": "code",
    "id": "aMVB9wIlhw2I"
   },
   "outputs": [],
   "source": [
    "#Integration du model sur tous les points x=[x1,....,xn] avec condition initial y0\n",
    "#y0 = S0, I0, R0, D0\n",
    "#S0 = N - I0 - R0 - D0\n",
    "def f(params,x,y0):\n",
    "    N= params[\"N\"]\n",
    "    p= params[\"p\"].value\n",
    "    # Integrate the SIR equations over the time grid, t.\n",
    "    beta= params[\"beta\"].value\n",
    "    gamma= params[\"gamma\"].value\n",
    "    sigma= params[\"sigma\"].value\n",
    "    return odeint(deriv, y0, x, args=(N,beta, gamma, sigma,p)).T"
   ]
  },
  {
   "cell_type": "code",
   "execution_count": 7,
   "metadata": {
    "colab": {},
    "colab_type": "code",
    "id": "WSloZwUXIS9d"
   },
   "outputs": [],
   "source": [
    "#Algorithm de l'article de Mr Karami\n",
    "def fahd(params,x,y0):\n",
    "    n=x.size\n",
    "    N= params[\"N\"]\n",
    "    beta= params[\"beta\"].value\n",
    "    gamma= params[\"gamma\"].value\n",
    "    sigma= params[\"sigma\"].value\n",
    "    p= params[\"p\"].value\n",
    "    tau=x[1]-x[0]\n",
    "    S=np.empty(n+1)\n",
    "    I=np.empty(n+1)\n",
    "    R=np.empty(n+1)\n",
    "    D=np.empty(n+1)\n",
    "    S[0]=y0[0]\n",
    "    I[0]=y0[1]\n",
    "    R[0]=y0[2]\n",
    "    D[0]=y0[3]\n",
    "    \n",
    "    for k in range(n):\n",
    "        root=np.sqrt((tau*(gamma+sigma)+1-tau*(beta/N)*(S[k]+I[k]))**2+4.*tau*(beta/N)*(tau*(gamma+sigma)+1.)*I[k])\n",
    "        rest=(tau*(gamma+sigma)+1.-tau*(beta/N)*(S[k]+I[k]))\n",
    "        den=(2.*tau*(beta/N)*(1.+tau*(gamma+sigma)))\n",
    "        I[k+1]=(root -rest)/den\n",
    "        S[k+1]=S[k]/(1+tau*(beta/N)*I[k+1])\n",
    "        R[k+1]=R[k]+tau*gamma*I[k+1]\n",
    "        D[k+1]=D[k]+tau*sigma*I[k+1]\n",
    "    S=S[0:-1].tolist()\n",
    "    I=I[0:-1].tolist()\n",
    "    R=R[0:-1].tolist()\n",
    "    D=D[0:-1].tolist()\n",
    "    return np.array([S,I,R,D])\n",
    "\n",
    "  "
   ]
  },
  {
   "cell_type": "code",
   "execution_count": 8,
   "metadata": {
    "colab": {
     "base_uri": "https://localhost:8080/",
     "height": 34
    },
    "colab_type": "code",
    "id": "Ha2zpHOgvJDQ",
    "outputId": "c477248a-b72e-40f9-fab3-79e4b3f57f8e"
   },
   "outputs": [
    {
     "name": "stdout",
     "output_type": "stream",
     "text": [
      "N: 36890000.0\n"
     ]
    }
   ],
   "source": [
    "fit_params = Parameters()\n",
    "fit_params.add('N', value=N,vary=False)\n",
    "fit_params.add('p', value=1,min=1, max=1e6)\n",
    "fit_params.add('beta', value=0.2, min=0, max=4.0)\n",
    "fit_params.add('gamma', value=0.02, min=0, max=1.0)\n",
    "fit_params.add('sigma', value=0.01, min=0, max=1.0)\n",
    "N=fit_params['N'].value\n",
    "print('N:',N)\n",
    "#Test de f\n",
    "#x=np.linspace(1,2,10)\n"
   ]
  },
  {
   "cell_type": "code",
   "execution_count": 9,
   "metadata": {
    "colab": {
     "base_uri": "https://localhost:8080/",
     "height": 311
    },
    "colab_type": "code",
    "id": "cCEfRahXwNIH",
    "outputId": "8d630acb-2319-45a3-c8aa-a44613c53583"
   },
   "outputs": [
    {
     "name": "stdout",
     "output_type": "stream",
     "text": [
      "CPU times: user 54.6 ms, sys: 8.4 ms, total: 63 ms\n",
      "Wall time: 111 ms\n"
     ]
    },
    {
     "data": {
      "text/plain": [
       "[<matplotlib.lines.Line2D at 0x7fafa1e64d90>]"
      ]
     },
     "execution_count": 9,
     "metadata": {},
     "output_type": "execute_result"
    },
    {
     "data": {
      "image/png": "[encoded data removed]",
      "text/plain": [
       "<Figure size 432x288 with 1 Axes>"
      ]
     },
     "metadata": {
      "needs_background": "light"
     },
     "output_type": "display_data"
    }
   ],
   "source": [
    "%%time\n",
    "#Resolution using Fahd\n",
    "tau = .1\n",
    "x=np.linspace(tau,data.shape[1],int((data.shape[1])/tau))\n",
    "y=fahd(fit_params,x,y0)\n",
    "\n",
    "#Plot estimated data using odint\n",
    "#plt.plot(y[0], label=\"Sr\",color='blue')\n",
    "plt.plot(y[1], label=\"Is\",color='red')\n",
    "plt.plot(y[2],label=\"Rs\", color='green')\n",
    "plt.plot(y[3],label=\"Ds\", color='gray')"
   ]
  },
  {
   "cell_type": "code",
   "execution_count": 10,
   "metadata": {
    "colab": {
     "base_uri": "https://localhost:8080/",
     "height": 311
    },
    "colab_type": "code",
    "id": "1ui89D0evL9G",
    "outputId": "3e12f216-9eb0-4bc3-c100-02836383b184"
   },
   "outputs": [
    {
     "name": "stdout",
     "output_type": "stream",
     "text": [
      "CPU times: user 59.6 ms, sys: 0 ns, total: 59.6 ms\n",
      "Wall time: 62.4 ms\n"
     ]
    },
    {
     "data": {
      "text/plain": [
       "[<matplotlib.lines.Line2D at 0x7fafa1e1a450>]"
      ]
     },
     "execution_count": 10,
     "metadata": {},
     "output_type": "execute_result"
    },
    {
     "data": {
      "image/png": "[encoded data removed]",
      "text/plain": [
       "<Figure size 432x288 with 1 Axes>"
      ]
     },
     "metadata": {
      "needs_background": "light"
     },
     "output_type": "display_data"
    }
   ],
   "source": [
    "%%time\n",
    "#Resolution using odint\n",
    "p=1\n",
    "tau = .1\n",
    "x=np.linspace(tau,data.shape[1]*2,int((data.shape[1]*2)/tau))\n",
    "fit_params['p'].value=60\n",
    "y=f(fit_params,x,y0)\n",
    "#Plot estimated data using odint\n",
    "plt.plot(y[1], label=\"Is\",color='red')\n",
    "plt.plot(y[2],label=\"Rs\", color='green')\n",
    "plt.plot(y[3],label=\"Ds\", color='gray')\n",
    "\n",
    "fit_params['p'].value=100\n",
    "y=f(fit_params,x,y0)\n",
    "#Plot estimated data using odint\n",
    "plt.plot(y[1], linestyle='dotted',label=\"Is\",color='red')\n",
    "plt.plot(y[2],linestyle='dotted',label=\"Rs\", color='green')\n",
    "plt.plot(y[3],linestyle='dotted',label=\"Ds\", color='gray')"
   ]
  },
  {
   "cell_type": "code",
   "execution_count": 11,
   "metadata": {
    "colab": {},
    "colab_type": "code",
    "id": "V49hL1qFiDXM"
   },
   "outputs": [],
   "source": [
    "#Algorithm de l'article de Mr Karami\n",
    "def fahdFix(params,x,y0):\n",
    "    n=x.size\n",
    "    N= params[\"N\"]\n",
    "    pp= params[\"p\"].value\n",
    "    beta= params[\"beta\"].value\n",
    "    gamma= params[\"gamma\"].value\n",
    "    sigma= params[\"sigma\"].value\n",
    "    tau=x[1]-x[0]\n",
    "    S=np.empty(n+1)\n",
    "    I=np.empty(n+1)\n",
    "    R=np.empty(n+1)\n",
    "    D=np.empty(n+1)\n",
    "    P=np.ones(n+1)\n",
    "    for i in range(tc,tc+eps+1):\n",
    "      P[i]=1+(pp-1)*(i-tc)/eps \n",
    "    for i in range(tc+eps+1,n+1):\n",
    "      P[i]=pp \n",
    "    S[0]=y0[0]\n",
    "    I[0]=y0[1]\n",
    "    R[0]=y0[2]\n",
    "    D[0]=y0[3]\n",
    "    theta=(S[0]/N)**(P[0]-1)\n",
    "    for k in range(n):\n",
    "        Err=1\n",
    "        II=I[k]\n",
    "        theta=(S[k]/N)**(P[k]-1)\n",
    "        while Err>1e-10:\n",
    "            root=np.sqrt((tau*(gamma+sigma)+1.-tau*(beta/N)*(S[k]+I[k])*theta)**2+(4*tau*(beta/N)*(tau*(gamma+sigma)+1)*theta*I[k]))\n",
    "            rest=(tau*(gamma+sigma)+1)-tau*(beta/N)*(S[k]+I[k])*theta\n",
    "            den=2*tau*(beta/N)*(1.+tau*(gamma+sigma))*theta\n",
    "            III=(root-rest)/den\n",
    "            SS=S[k]/(1.+(tau*(beta/N)*III*theta))\n",
    "            RR=R[k]+tau*gamma*III\n",
    "            DD=D[k]+tau*sigma*III\n",
    "            theta1=(SS/N)**(P[k+1]-1)\n",
    "            #Err=abs(II-III)\n",
    "            Err=abs(theta-theta1)\n",
    "            II=III\n",
    "            theta=theta1\n",
    "            #print(Err)\n",
    "        S[k+1],I[k+1],R[k+1],D[k+1]=SS,II,RR,DD\n",
    "        #print(\"===========================================================================\")\n",
    "    S=S[1:].tolist()\n",
    "    I=I[1:].tolist()\n",
    "    R=R[1:].tolist()\n",
    "    D=D[1:].tolist()\n",
    "    return np.array([S,I,R,D])"
   ]
  },
  {
   "cell_type": "code",
   "execution_count": 12,
   "metadata": {
    "colab": {
     "base_uri": "https://localhost:8080/",
     "height": 311
    },
    "colab_type": "code",
    "id": "IyCvj6Nthmta",
    "outputId": "1820deaf-9f55-4732-a54c-d82c011c5134",
    "scrolled": true
   },
   "outputs": [
    {
     "name": "stdout",
     "output_type": "stream",
     "text": [
      "CPU times: user 595 ms, sys: 164 µs, total: 596 ms\n",
      "Wall time: 597 ms\n"
     ]
    },
    {
     "data": {
      "text/plain": [
       "[<matplotlib.lines.Line2D at 0x7fafa1d6ddd0>]"
      ]
     },
     "execution_count": 12,
     "metadata": {},
     "output_type": "execute_result"
    },
    {
     "data": {
      "image/png": "[encoded data removed]",
      "text/plain": [
       "<Figure size 432x288 with 1 Axes>"
      ]
     },
     "metadata": {
      "needs_background": "light"
     },
     "output_type": "display_data"
    }
   ],
   "source": [
    "%%time\n",
    "#Resolution using fahdFix\n",
    "tau=0.1\n",
    "x=np.linspace(tau,data.shape[1],int((data.shape[1])/tau))\n",
    "tc=int(30/tau)#confinement\n",
    "eps=10\n",
    "n=x.size\n",
    "\n",
    "x=np.linspace(tau,data.shape[1]*2,int((data.shape[1]*2)/tau))\n",
    "fit_params['p'].value=60\n",
    "y=fahdFix(fit_params,x,y0)\n",
    "#Plot estimated data using odint\n",
    "plt.plot(y[1], label=\"Is\",color='red')\n",
    "plt.plot(y[2],label=\"Rs\", color='green')\n",
    "plt.plot(y[3],label=\"Ds\", color='gray')\n",
    "\n",
    "fit_params['p'].value=100\n",
    "y=fahdFix(fit_params,x,y0)\n",
    "#Plot estimated data using odint\n",
    "plt.plot(y[1], linestyle='dotted',label=\"Is\",color='red')\n",
    "plt.plot(y[2],linestyle='dotted',label=\"Rs\", color='green')\n",
    "plt.plot(y[3],linestyle='dotted',label=\"Ds\", color='gray')"
   ]
  },
  {
   "cell_type": "code",
   "execution_count": 17,
   "metadata": {
    "colab": {},
    "colab_type": "code",
    "id": "2DnQfJbim0nH"
   },
   "outputs": [],
   "source": [
    "def objective(params,f,x,data,y0,z):\n",
    "    # Initial number of infected and recovered individuals, I0 and R0.\n",
    "    ndata, _ = data.shape\n",
    "    resid = 0.0*data[:]\n",
    "    ret=f(params,x,y0)\n",
    "    \n",
    "    for i in range(ndata):\n",
    "        resid[i, :] = z[i]*(data[i, :] - ret[i,:])\n",
    "    return resid.flatten()"
   ]
  },
  {
   "cell_type": "code",
   "execution_count": null,
   "metadata": {
    "colab": {
     "base_uri": "https://localhost:8080/",
     "height": 675
    },
    "colab_type": "code",
    "id": "L2K6t31R2VK6",
    "outputId": "64dadc04-0328-487d-aee0-1d355f24aec4"
   },
   "outputs": [
    {
     "name": "stdout",
     "output_type": "stream",
     "text": [
      "[  1.   2.   3.   4.   5.   6.   7.   8.   9.  10.  11.  12.  13.  14.\n",
      "  15.  16.  17.  18.  19.  20.  21.  22.  23.  24.  25.  26.  27.  28.\n",
      "  29.  30.  31.  32.  33.  34.  35.  36.  37.  38.  39.  40.  41.  42.\n",
      "  43.  44.  45.  46.  47.  48.  49.  50.  51.  52.  53.  54.  55.  56.\n",
      "  57.  58.  59.  60.  61.  62.  63.  64.  65.  66.  67.  68.  69.  70.\n",
      "  71.  72.  73.  74.  75.  76.  77.  78.  79.  80.  81.  82.  83.  84.\n",
      "  85.  86.  87.  88.  89.  90.  91.  92.  93.  94.  95.  96.  97.  98.\n",
      "  99. 100. 101. 102. 103. 104. 105. 106. 107. 108. 109. 110. 111. 112.\n",
      " 113.]\n",
      "113\n"
     ]
    }
   ],
   "source": [
    "z=[0.5,0.48,0.01,0.01]\n",
    "y0,data,ac=getCountryData(\"MA\",N)\n",
    "#print(y)\n",
    "tau = .01\n",
    "tc= 30                #26   said depart #confinement\n",
    "eps=8                #2 said \n",
    "n=data.shape[1]\n",
    "x=np.linspace(1,n,n)\n",
    "print(x)\n",
    "print(x.size)\n",
    "\n",
    "fit_params[\"p\"].value=1\n",
    "fit_params[\"p\"].vary=True\n",
    "outf = minimize(objective, fit_params,  args=(fahdFix,x,data,y0,z))#method='Nelder-Mead',tol=1e-10,\n",
    "\n",
    "fit_params[\"p\"].value=1\n",
    "fit_params[\"p\"].vary=False\n",
    "out = minimize(objective, fit_params,  args=(f,x,data,y0,z))\n",
    "\n",
    "#report_fit(out.params)\n",
    "report_fit(outf.params)\n",
    "y=f(out.params,x,[N-1,1,0,0])\n",
    "yf=fahdFix(outf.params,x,[N-1,1,0,0])\n",
    "\n",
    "\n",
    "plt.subplot(2, 2, 1)\n",
    "plt.plot(x,data[0],label=\"Sr\", color='blue')\n",
    "plt.plot(x,y[0], label=\"Sr\",linestyle='dashed',color='blue')\n",
    "plt.plot(x,yf[0],linestyle='dotted', label=\"Sr\",color='blue')\n",
    "\n",
    "plt.subplot(2, 2, 2)\n",
    "plt.plot(x,data[1],label=\"Ir\", color='red')\n",
    "plt.plot(x,y[1], label=\"Is\",linestyle='dashed',color='red')\n",
    "plt.plot(x,yf[1],linestyle='dotted', label=\"Is\",color='red')\n",
    "\n",
    "plt.subplot(2, 2, 3)\n",
    "plt.plot(x,data[2],label=\"Rr\", color='green')\n",
    "plt.plot(x,y[2],label=\"Rs\",linestyle='dashed', color='green')\n",
    "plt.plot(x,yf[2],linestyle='dotted',label=\"Rs\", color='green')\n",
    "\n",
    "plt.subplot(2, 2, 4)\n",
    "plt.plot(x,data[3],label=\"Dr\", color='gray')\n",
    "plt.plot(x,y[3],label=\"Ds\",linestyle='dashed', color='gray')\n",
    "plt.plot(x,yf[3],linestyle='dotted',label=\"Ds\", color='gray')\n",
    "print(\"===========================================\")\n",
    "#print(y.shape,yf.shape,data.shape)\n",
    "plt.legend()"
   ]
  },
  {
   "cell_type": "code",
   "execution_count": null,
   "metadata": {
    "colab": {
     "base_uri": "https://localhost:8080/",
     "height": 317
    },
    "colab_type": "code",
    "id": "BaSXqRitol8k",
    "outputId": "def8a126-2844-45af-f1e8-9540406053db"
   },
   "outputs": [],
   "source": [
    "R00=out.params[\"beta\"].value/(out.params[\"sigma\"].value+out.params[\"gamma\"].value)\n",
    "R0=outf.params[\"beta\"].value/(outf.params[\"sigma\"].value+outf.params[\"gamma\"].value)\n",
    "\n",
    "n=x.size\n",
    "print(n)\n",
    "pp=outf.params[\"p\"].value\n",
    "P=np.ones(n)\n",
    "for i in range(tc,tc+eps+1):\n",
    "  P[i]=1+(pp-1)*(i-tc)/eps \n",
    "for i in range(tc+eps+1,n):\n",
    "  P[i]=pp \n",
    "rt=R0*(yf[0]/N)**P\n",
    "rtt=R00*(y[0]/N)**20\n",
    "plt.figure()\n",
    "plt.subplot(1, 2, 1)\n",
    "plt.plot(rt,label='Rpt')\n",
    "plt.subplot(1, 2, 2)\n",
    "plt.plot(rtt,label='Rptt')\n",
    "print(R00, R0)\n",
    "plt.legend()\n"
   ]
  },
  {
   "cell_type": "markdown",
   "metadata": {
    "colab_type": "text",
    "id": "zT2OOAYdsvUY"
   },
   "source": [
    "# Etape1:\n",
    "Teste 1:  \n",
    "presentation du caractère exponentielle dans les premiers 15 jours \n",
    "de l'épédimie  par paquet (Italy espagne france allemagne ) +(maroc algérie egypte afrique du sud) +(Chilie brazil mexique iran)\n",
    "\n",
    "mettre en evidence le caractère exponenetille de l'épedemie\n",
    "\n",
    "\n",
    "\n",
    "\n",
    "\n"
   ]
  },
  {
   "cell_type": "code",
   "execution_count": null,
   "metadata": {
    "colab": {
     "base_uri": "https://localhost:8080/",
     "height": 1000
    },
    "colab_type": "code",
    "id": "mcAU0DQiRJUF",
    "outputId": "9ee295de-22ec-4a43-eb53-a9ad81e65042"
   },
   "outputs": [],
   "source": [
    "fit_params[\"p\"].value=1\n",
    "fit_params[\"p\"].vary=False\n",
    "y0MA,dataMA,acMA=getCountryData(\"MA\",Nma)\n",
    "n=dataMA.shape[1]\n",
    "n1=30\n",
    "x=np.linspace(1,n1,n1)\n",
    "#plt.subplot(3, 3, 1)\n",
    "plt.figure()\n",
    "#plt.plot(x,acMA[0:n1], label=\"Morocco\")\n",
    "plt.plot(x,dataMA[1][0:n1], label=\"Morocco\")\n",
    "#plt.title(\"Morocco\")\n",
    "\n",
    "y0Alg,dataAlg,acAlg=getCountryData(\"DZ\",Nalg)\n",
    "n=dataAlg.shape[1]\n",
    "x=np.linspace(1,n1,n1)\n",
    "#plt.subplot(3, 3, 2)\n",
    "#plt.figure()\n",
    "#plt.plot(x,acAlg[0:n1], label=\"Algeria\")\n",
    "plt.plot(x,dataAlg[1][0:n1], label=\"Algeria\")\n",
    "#plt.title(\"Algeria\")\n",
    "plt.legend()\n",
    "\n",
    "\n",
    "\n",
    "n1=40\n",
    "x=np.linspace(1,n1,n1)\n",
    "plt.figure()\n",
    "\n",
    "y0IT,dataIT,acIT=getCountryData(\"IT\",Nmx)\n",
    "n=dataIT.shape[1]\n",
    "#plt.plot(x,acIT[0:n1], label=\"Italy\")\n",
    "plt.plot(x,dataIT[1][0:n1], label=\"Italy\")\n",
    "plt.legend()\n",
    "\n",
    "n1=50\n",
    "x=np.linspace(1,n1,n1)\n",
    "plt.figure()\n",
    "\n",
    "y0ES,dataES,acES=getCountryData(\"ES\",Nsp)\n",
    "n=dataES.shape[1]\n",
    "#plt.plot(x,acES[0:n1], label=\"Spain\")\n",
    "plt.plot(x,dataES[1][0:n1], label=\"Spain\")\n",
    "#plt.title('Spain')\n",
    "#plt.legend()\n",
    "\n",
    "y0DE,dataDE,acDE=getCountryData(\"DE\",Nde)\n",
    "n=dataDE.shape[1]\n",
    "#plt.subplot(3, 3, 5)\n",
    "plt.figure()\n",
    "#plt.plot(x,acDE[0:n1], label=\"Germany\")\n",
    "plt.plot(x,dataDE[1][0:n1], label=\"Germany\")\n",
    "#plt.title('Germany')\n",
    "#plt.legend()\n",
    "\n",
    "y0Fr,dataFr,acFr=getCountryData(\"FR\",Nfr)\n",
    "n=dataFr.shape[1]\n",
    "x=np.linspace(1,n1,n1)\n",
    "#plt.subplot(3, 3, 3)\n",
    "#plt.figure()\n",
    "#plt.plot(x,acFr[0:n1], label=\"France\")\n",
    "plt.plot(x,dataFr[1][0:n1], label=\"France\")\n",
    "#plt.title(\"France\")\n",
    "#plt.legend()\n",
    "\n",
    "y0MX,dataMX,acMX=getCountryData(\"MX\",Nmx)\n",
    "n=dataMX.shape[1]\n",
    "#x=np.linspace(1,n1,n1)\n",
    "#plt.subplot(3, 3, 6)\n",
    "#plt.figure()\n",
    "#plt.plot(x,acMX[0:n1], label=\"Mexico\")\n",
    "plt.plot(x,dataMX[1][0:n1], label=\"Mexico\")\n",
    "#plt.title(\"Mexico\")\n",
    "\n",
    "\n",
    "plt.legend()\n",
    "\n",
    "\n"
   ]
  },
  {
   "cell_type": "markdown",
   "metadata": {
    "colab_type": "text",
    "id": "DYZMtGbvs0M0"
   },
   "source": [
    "#Etape 2:\n",
    "Test2: lancer SIR classique sur les premiers 15 jours, fitter sur les données, recuperer $ \\alpha, \\beta, et \\gamma $ en suite tracer les courbes SIR et les SIRP en variant les p $p=10 , 100, 50000$\n",
    "L'impact de $p$ est du confinement  et l et voir  l impact de la puissance \n",
    "\n",
    "\n",
    "\n"
   ]
  },
  {
   "cell_type": "code",
   "execution_count": null,
   "metadata": {
    "colab": {
     "base_uri": "https://localhost:8080/",
     "height": 889
    },
    "colab_type": "code",
    "id": "GthgXpQtRL0O",
    "outputId": "fe64ad5b-68dc-4ea0-8086-ce27403942aa"
   },
   "outputs": [],
   "source": [
    "def pEffect(data,N,tc,tmax,y0):   \n",
    "    fit_params[\"N\"].value=N\n",
    "    fit_params[\"p\"].value=1\n",
    "    fit_params[\"p\"].vary=False\n",
    "    n1=tc #46\n",
    "    x=np.linspace(1,n1,n1)\n",
    "    d=np.array([data[0][0:n1],data[1][0:n1],data[2][0:n1],data[3][0:n1]])\n",
    "    #print(d.shape)\n",
    "    out = minimize(objective, fit_params,  args=(f,x,d,y0))\n",
    "    report_fit(out.params)\n",
    "    n1=tmax #180\n",
    "    x=np.linspace(1,n1,n1)\n",
    "    out.params[\"p\"].value=1\n",
    "    y=f(out.params,x,[N-1,1,0,0])\n",
    "    out.params[\"p\"].value=1.2\n",
    "    yf1=f(out.params,x,[N-1,1,0,0])\n",
    "    out.params[\"p\"].value=1.4\n",
    "    yf2=f(out.params,x,[N-1,1,0,0])\n",
    "    out.params[\"p\"].value=1.6\n",
    "    yf3=f(out.params,x,[N-1,1,0,0])\n",
    "    plt.figure()\n",
    "    plt.plot(y[1][100:],label=\"SIRP p=1\")\n",
    "    #plt.plot(data[1],label=\"real\")\n",
    "    plt.plot(yf1[1][100:],label=\"SIRP p=2\")\n",
    "    plt.plot(yf2[1][100:],label=\"SIRP p=3\")\n",
    "    plt.plot(yf3[1][100:],label=\"SIRP p=6\")\n",
    "    #plt.plot(d[1],label=\"Real\")\n",
    "    plt.legend()\n",
    "pEffect(dataMA,Nma,46,200,y0MA)  \n",
    "pEffect(dataDE,Nde,70,200,y0DE) \n",
    "pEffect(dataFr,Nfr,70,200,y0Fr) "
   ]
  },
  {
   "cell_type": "markdown",
   "metadata": {
    "colab_type": "text",
    "id": "aWz62W5BpL1m"
   },
   "source": []
  },
  {
   "cell_type": "markdown",
   "metadata": {
    "colab_type": "text",
    "id": "0IxZOOMFs-ko"
   },
   "source": [
    "# Etape3\n",
    "Dans le test 3 on fit notre modèle et nous recuperons les nouveaux parametre $\\alpha, \\beta, \\gamma et p $.\n",
    "Nous fittons egalement SIR.\n",
    "\n",
    "Comparer d'abord fitting de notre modele et du modèle SIR.\n",
    "mettre en evidence que le fitting avec notre modèle donne meilleure resultasts vu qu il prend en considération la distanciation social( indicateur de fitting).\n",
    "(Donner plus d'importance et donnée recente)\n",
    "\n",
    "\n",
    "Tracer le $R_p(t)$ pour chaque pays \n",
    "\n",
    "Mesuré l'impact du confinement en comparant notre modèle  avec (SIR avec les parametres $(\\alpha, \\beta, \\gamma)$ de l'etape 2)\n",
    "-"
   ]
  },
  {
   "cell_type": "code",
   "execution_count": null,
   "metadata": {
    "colab": {},
    "colab_type": "code",
    "id": "DtrPgyH0p8Xd"
   },
   "outputs": [],
   "source": [
    "def result(country,data,y0,N):\n",
    "  n=data.shape[1]\n",
    "  n1=n\n",
    "  x=np.linspace(1,n1,n1)\n",
    "  d=np.array([data[0][0:n1],data[1][0:n1],data[2][0:n1],data[3][0:n1]])\n",
    "  #print(d.shape)\n",
    "  fit_params[\"N\"].value=N\n",
    "  fit_params[\"p\"].value=1\n",
    "  fit_params[\"p\"].vary=False\n",
    "  out = minimize(objective, fit_params,  args=(f,x,d,y0))\n",
    "\n",
    "  fit_params[\"p\"].value=1\n",
    "  fit_params[\"p\"].vary=True\n",
    "  outf = minimize(objective, fit_params,  args=(fahdFix,x,d,y0))\n",
    "\n",
    "  print(\"===============SIR==================\")\n",
    "  print(report_fit(out.params))\n",
    "  print(\"===============SIR FahdFix==================\")\n",
    "  print(report_fit(outf.params))\n",
    "  print(\"====================================\")\n",
    "  out.params[\"p\"].value=1\n",
    "  y=f(out.params,x,[N-1,1,0,0])\n",
    "  yf=f(outf.params,x,[N-1,1,0,0])\n",
    "\n",
    "  plt.figure()\n",
    "\n",
    "  plt.subplot(2,2,1)\n",
    "  plt.plot(y[1],label=\"SIR\")\n",
    "  plt.plot(yf[1],label=\"OurModel\")\n",
    "  plt.plot(d[1],label=\"Real\")\n",
    "  plt.legend()\n",
    "\n",
    "  plt.subplot(2,2,2)\n",
    "  plt.plot(y[2],label=\"SIR\")\n",
    "  plt.plot(yf[2],label=\"OurModel\")\n",
    "  plt.plot(d[2],label=\"Real\")\n",
    "  plt.legend()\n",
    "\n",
    "  plt.subplot(2,2,3)\n",
    "  plt.plot(y[3],label=\"SIR\")\n",
    "  plt.plot(yf[3],label=\"OurModel\")\n",
    "  plt.plot(d[3],label=\"Real\")\n",
    "  plt.legend()\n",
    "\n",
    "  plt.subplot(2,2,4)\n",
    "  plt.plot(y[0],label=\"SIR\")\n",
    "  plt.plot(yf[0],label=\"OurModel\")\n",
    "  plt.plot(d[0],label=\"Real\")\n",
    "  plt.title(country)\n",
    "  plt.legend()\n",
    "\n",
    "result(\"Morocco\",dataMA,y0MA,Nma)\n",
    "#result(\"Algeria\",dataAlg,y0Alg,Nalg)\n",
    "#result(\"Spain\",dataES,y0ES,Nsp)\n",
    "#result(\"Mexico\",dataMX,y0MX,Nmx)\n",
    "#result(\"France\",dataFr,y0Fr,Nfr)"
   ]
  },
  {
   "cell_type": "code",
   "execution_count": null,
   "metadata": {},
   "outputs": [],
   "source": []
  },
  {
   "cell_type": "code",
   "execution_count": null,
   "metadata": {},
   "outputs": [],
   "source": []
  }
 ],
 "metadata": {
  "colab": {
   "collapsed_sections": [],
   "name": "SIR_Covidco2.ipynb",
   "provenance": []
  },
  "kernelspec": {
   "display_name": "Python 3",
   "language": "python",
   "name": "python3"
  },
  "language_info": {
   "codemirror_mode": {
    "name": "ipython",
    "version": 3
   },
   "file_extension": ".py",
   "mimetype": "text/x-python",
   "name": "python",
   "nbconvert_exporter": "python",
   "pygments_lexer": "ipython3",
   "version": "3.7.6"
  }
 },
 "nbformat": 4,
 "nbformat_minor": 1
}
