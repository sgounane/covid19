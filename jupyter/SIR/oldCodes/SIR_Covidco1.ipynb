{
  "nbformat": 4,
  "nbformat_minor": 0,
  "metadata": {
    "colab": {
      "name": "SIR_Covidco.ipynb",
      "provenance": [],
      "collapsed_sections": []
    },
    "kernelspec": {
      "display_name": "Python 3",
      "language": "python",
      "name": "python3"
    },
    "language_info": {
      "codemirror_mode": {
        "name": "ipython",
        "version": 3
      },
      "file_extension": ".py",
      "mimetype": "text/x-python",
      "name": "python",
      "nbconvert_exporter": "python",
      "pygments_lexer": "ipython3",
      "version": "3.7.6"
    }
  },
  "cells": [
    {
      "cell_type": "code",
      "metadata": {
        "colab_type": "code",
        "id": "UcMw4yNrg1Oh",
        "outputId": "794361fc-c279-4a67-e4f7-66c38ae16bb1",
        "colab": {
          "base_uri": "https://localhost:8080/",
          "height": 506
        }
      },
      "source": [
        "!pip install lmfit\n",
        "!pip install requests\n",
        "from matplotlib import pyplot as plt\n",
        "import numpy as np\n",
        "from scipy.integrate import odeint\n",
        "import pandas as pd\n",
        "from lmfit import Parameters, minimize, report_fit\n",
        "import requests"
      ],
      "execution_count": 3,
      "outputs": [
        {
          "output_type": "stream",
          "text": [
            "Collecting lmfit\n",
            "\u001b[?25l  Downloading https://files.pythonhosted.org/packages/d1/2e/9e4cdcebf93603ce57bc7577707ad56ed1282ae306f611e525612b9cfeea/lmfit-1.0.1.tar.gz (258kB)\n",
            "\u001b[K     |████████████████████████████████| 266kB 2.7MB/s \n",
            "\u001b[?25hCollecting asteval>=0.9.16\n",
            "\u001b[?25l  Downloading https://files.pythonhosted.org/packages/e4/3b/8aaee90977588fa3e88d7a495af306d6f4a1c1c01c8f0fe0de1fc43d0908/asteval-0.9.18.tar.gz (52kB)\n",
            "\u001b[K     |████████████████████████████████| 61kB 6.2MB/s \n",
            "\u001b[?25hRequirement already satisfied: numpy>=1.16 in /usr/local/lib/python3.6/dist-packages (from lmfit) (1.18.5)\n",
            "Requirement already satisfied: scipy>=1.2 in /usr/local/lib/python3.6/dist-packages (from lmfit) (1.4.1)\n",
            "Collecting uncertainties>=3.0.1\n",
            "\u001b[?25l  Downloading https://files.pythonhosted.org/packages/b0/e0/fc200da8190729dcb685ae4877ed6936d31d64aeccb8cc355d9ec982681d/uncertainties-3.1.4-py2.py3-none-any.whl (246kB)\n",
            "\u001b[K     |████████████████████████████████| 256kB 8.8MB/s \n",
            "\u001b[?25hRequirement already satisfied: future in /usr/local/lib/python3.6/dist-packages (from uncertainties>=3.0.1->lmfit) (0.16.0)\n",
            "Building wheels for collected packages: lmfit, asteval\n",
            "  Building wheel for lmfit (setup.py) ... \u001b[?25l\u001b[?25hdone\n",
            "  Created wheel for lmfit: filename=lmfit-1.0.1-cp36-none-any.whl size=81990 sha256=1c0d1a01b8c4543c03061b43ba93b063624ed8d96b7644c8306c265ad6b113a6\n",
            "  Stored in directory: /root/.cache/pip/wheels/ef/22/8d/6cd9c0af36f501cfb248673b05dad5d2c27504951d55519acb\n",
            "  Building wheel for asteval (setup.py) ... \u001b[?25l\u001b[?25hdone\n",
            "  Created wheel for asteval: filename=asteval-0.9.18-cp36-none-any.whl size=17381 sha256=d3483b6dbdde5bb4355b7799bcfb1e33017469536487e3aac88f95d4292d6fbb\n",
            "  Stored in directory: /root/.cache/pip/wheels/1c/53/1b/28d929700c9633b1786a4982e6db564ec8326a8930234dcc19\n",
            "Successfully built lmfit asteval\n",
            "Installing collected packages: asteval, uncertainties, lmfit\n",
            "Successfully installed asteval-0.9.18 lmfit-1.0.1 uncertainties-3.1.4\n",
            "Requirement already satisfied: requests in /usr/local/lib/python3.6/dist-packages (2.23.0)\n",
            "Requirement already satisfied: certifi>=2017.4.17 in /usr/local/lib/python3.6/dist-packages (from requests) (2020.4.5.1)\n",
            "Requirement already satisfied: urllib3!=1.25.0,!=1.25.1,<1.26,>=1.21.1 in /usr/local/lib/python3.6/dist-packages (from requests) (1.24.3)\n",
            "Requirement already satisfied: idna<3,>=2.5 in /usr/local/lib/python3.6/dist-packages (from requests) (2.9)\n",
            "Requirement already satisfied: chardet<4,>=3.0.2 in /usr/local/lib/python3.6/dist-packages (from requests) (3.0.4)\n"
          ],
          "name": "stdout"
        }
      ]
    },
    {
      "cell_type": "code",
      "metadata": {
        "colab_type": "code",
        "id": "MYAUMnFgUj40",
        "outputId": "7263e09c-eeba-453f-816a-2ae1a014720d",
        "colab": {
          "base_uri": "https://localhost:8080/",
          "height": 34
        }
      },
      "source": [
        "def getCountryData(country,N):\n",
        "  r = requests.get('https://api.covid19api.com/dayone/country/'+country)\n",
        "  res=r.json()\n",
        "  df=pd.DataFrame(res)\n",
        "  df.to_csv('ma.csv',index=False)\n",
        "  c=np.array(df['Confirmed'])\n",
        "  a=np.array(df['Active'])\n",
        "  r=np.array(df['Recovered'])\n",
        "  d=np.array(df['Deaths'])\n",
        "  #N=np.max(c)\n",
        "  #N=21e6\n",
        "  s=N-a-r-d\n",
        "  y0=[s[0]-a[0],a[0],r[0],d[0]]\n",
        "  data=np.array([s[1:],a[1:],r[1:],d[1:]])\n",
        "  return y0,data\n",
        "N=4e7\n",
        "y0,data=getCountryData(\"MA\",N)\n",
        "print(y0)\n",
        "  #p=1\n"
      ],
      "execution_count": 7,
      "outputs": [
        {
          "output_type": "stream",
          "text": [
            "[39999998.0, 1, 0, 0]\n"
          ],
          "name": "stdout"
        }
      ]
    },
    {
      "cell_type": "code",
      "metadata": {
        "colab_type": "code",
        "id": "jAG_xiK1Jwcg",
        "outputId": "0a8afe93-5448-48e6-8c8f-dcb34db491d9",
        "colab": {
          "base_uri": "https://localhost:8080/",
          "height": 34
        }
      },
      "source": [
        "# SIRD Model\n",
        "## Input:\n",
        "### y: valeur actuel de S I R et D\n",
        "### t: L'instant temps\n",
        "### N: Population total\n",
        "### beta:\n",
        "### gamma: \n",
        "### sigma:\n",
        "## Output\n",
        "### la variation de S I R et D\n",
        "\n",
        "def deriv(y, x, N, beta, gamma, sigma,p):\n",
        "    S, I, R , D = y\n",
        "    p=1\n",
        "    dSdt = -beta * I *(S/ N)**p\n",
        "    dIdt = beta * I * (S/ N)**p - (gamma +sigma) * I\n",
        "    dRdt = gamma * I\n",
        "    dDdt = sigma * I\n",
        "    return dSdt, dIdt, dRdt , dDdt\n",
        "\n",
        "\n",
        "#Test de la fonction deriv\n",
        "p=1\n",
        "deriv([10, 1, 0, 0],1,N, 1, 0.2, 0.1,1)\n",
        "\n"
      ],
      "execution_count": 10,
      "outputs": [
        {
          "output_type": "execute_result",
          "data": {
            "text/plain": [
              "(-2.5e-07, -0.29999975000000006, 0.2, 0.1)"
            ]
          },
          "metadata": {
            "tags": []
          },
          "execution_count": 10
        }
      ]
    },
    {
      "cell_type": "code",
      "metadata": {
        "colab_type": "code",
        "id": "aMVB9wIlhw2I",
        "colab": {}
      },
      "source": [
        "#Integration du model sur tous les points x=[x1,....,xn] avec condition initial y0\n",
        "#y0 = S0, I0, R0, D0\n",
        "#S0 = N - I0 - R0 - D0\n",
        "def f(params,x,y0):\n",
        "    N= params[\"N\"]\n",
        "    # Integrate the SIR equations over the time grid, t.\n",
        "    beta= params[\"beta\"].value\n",
        "    gamma= params[\"gamma\"].value\n",
        "    sigma= params[\"sigma\"].value\n",
        "    p= params[\"p\"].value\n",
        "    return odeint(deriv, y0, x, args=(N,beta, gamma, sigma,p)).T"
      ],
      "execution_count": 0,
      "outputs": []
    },
    {
      "cell_type": "code",
      "metadata": {
        "colab_type": "code",
        "id": "WSloZwUXIS9d",
        "colab": {}
      },
      "source": [
        "#Algorithm de l'article de Mr Karami\n",
        "def fahd(params,x,y0):\n",
        "    n=x.size\n",
        "    N= params[\"N\"]\n",
        "    beta= params[\"beta\"].value\n",
        "    gamma= params[\"gamma\"].value\n",
        "    sigma= params[\"sigma\"].value\n",
        "    p= params[\"p\"].value\n",
        "    tau=x[1]-x[0]\n",
        "    S=np.empty(n+1)\n",
        "    I=np.empty(n+1)\n",
        "    R=np.empty(n+1)\n",
        "    D=np.empty(n+1)\n",
        "    S[0]=y0[0]\n",
        "    I[0]=y0[1]\n",
        "    R[0]=y0[2]\n",
        "    D[0]=y0[3]\n",
        "    \n",
        "    for k in range(n):\n",
        "        root=np.sqrt((tau*(gamma+sigma)+1-tau*(beta/N)*(S[k]+I[k]))**2+4.*tau*(beta/N)*(tau*(gamma+sigma)+1.)*I[k])\n",
        "        rest=(tau*(gamma+sigma)+1.-tau*(beta/N)*(S[k]+I[k]))\n",
        "        den=(2.*tau*(beta/N)*(1.+tau*(gamma+sigma)))\n",
        "        I[k+1]=(root -rest)/den\n",
        "        S[k+1]=S[k]/(1+tau*(beta/N)*I[k+1])\n",
        "        R[k+1]=R[k]+tau*gamma*I[k+1]\n",
        "        D[k+1]=D[k]+tau*sigma*I[k+1]\n",
        "    S=S[0:-1].tolist()\n",
        "    I=I[0:-1].tolist()\n",
        "    R=R[0:-1].tolist()\n",
        "    D=D[0:-1].tolist()\n",
        "    return np.array([S,I,R,D])\n",
        "\n",
        "  "
      ],
      "execution_count": 0,
      "outputs": []
    },
    {
      "cell_type": "code",
      "metadata": {
        "colab_type": "code",
        "id": "Ha2zpHOgvJDQ",
        "outputId": "7e2f6e9f-3b6a-493b-a3b8-97d67dc27da9",
        "colab": {
          "base_uri": "https://localhost:8080/",
          "height": 34
        }
      },
      "source": [
        "fit_params = Parameters()\n",
        "fit_params.add('N', value=N,vary=False)\n",
        "fit_params.add('p', value=1,min=1, max=1e6)\n",
        "fit_params.add('beta', value=0.2, min=0, max=4.0)\n",
        "fit_params.add('gamma', value=0.02, min=0, max=1.0)\n",
        "fit_params.add('sigma', value=0.01, min=0, max=1.0)\n",
        "N=fit_params['N'].value\n",
        "print('N:',N)\n",
        "#Test de f\n",
        "#x=np.linspace(1,2,10)\n"
      ],
      "execution_count": 17,
      "outputs": [
        {
          "output_type": "stream",
          "text": [
            "N: 40000000.0\n"
          ],
          "name": "stdout"
        }
      ]
    },
    {
      "cell_type": "code",
      "metadata": {
        "colab_type": "code",
        "id": "cCEfRahXwNIH",
        "outputId": "204f72a7-2d80-4af1-92bc-77a31067afea",
        "colab": {
          "base_uri": "https://localhost:8080/",
          "height": 311
        }
      },
      "source": [
        "%%time\n",
        "#Resolution using Fahd\n",
        "tau = .1\n",
        "x=np.linspace(tau,data.T.shape[0],int((data.T.shape[0])/tau))\n",
        "y=fahd(fit_params,x,y0)\n",
        "\n",
        "#Plot estimated data using odint\n",
        "#plt.plot(y[0], label=\"Sr\",color='blue')\n",
        "plt.plot(y[1], label=\"Is\",color='red')\n",
        "plt.plot(y[2],label=\"Rs\", color='green')\n",
        "plt.plot(y[3],label=\"Ds\", color='gray')"
      ],
      "execution_count": 20,
      "outputs": [
        {
          "output_type": "stream",
          "text": [
            "CPU times: user 32.2 ms, sys: 2.14 ms, total: 34.3 ms\n",
            "Wall time: 33.2 ms\n"
          ],
          "name": "stdout"
        },
        {
          "output_type": "display_data",
          "data": {
            "image/png": "[encoded data removed]",
            "text/plain": [
              "<Figure size 432x288 with 1 Axes>"
            ]
          },
          "metadata": {
            "tags": [],
            "needs_background": "light"
          }
        }
      ]
    },
    {
      "cell_type": "code",
      "metadata": {
        "colab_type": "code",
        "id": "1ui89D0evL9G",
        "outputId": "96c786b8-48f6-4d5e-81f3-df78d58a5e17",
        "colab": {
          "base_uri": "https://localhost:8080/",
          "height": 311
        }
      },
      "source": [
        "%%time\n",
        "#Resolution using odint\n",
        "p=1\n",
        "y=f(fit_params,x,y0)\n",
        "\n",
        "#Plot estimated data using odint\n",
        "#plt.plot(y[0], label=\"Sr\",color='blue')\n",
        "plt.plot(y[1], label=\"Is\",color='red')\n",
        "plt.plot(y[2],label=\"Rs\", color='green')\n",
        "plt.plot(y[3],label=\"Ds\", color='gray')"
      ],
      "execution_count": 21,
      "outputs": [
        {
          "output_type": "stream",
          "text": [
            "CPU times: user 24.1 ms, sys: 0 ns, total: 24.1 ms\n",
            "Wall time: 25.1 ms\n"
          ],
          "name": "stdout"
        },
        {
          "output_type": "display_data",
          "data": {
            "image/png": "[encoded data removed]",
            "text/plain": [
              "<Figure size 432x288 with 1 Axes>"
            ]
          },
          "metadata": {
            "tags": [],
            "needs_background": "light"
          }
        }
      ]
    },
    {
      "cell_type": "code",
      "metadata": {
        "colab_type": "code",
        "id": "V49hL1qFiDXM",
        "colab": {}
      },
      "source": [
        "#Algorithm de l'article de Mr Karami\n",
        "def fahdFix(params,x,y0):\n",
        "    n=x.size\n",
        "    N= params[\"N\"]\n",
        "    pp= params[\"p\"].value\n",
        "    beta= params[\"beta\"].value\n",
        "    gamma= params[\"gamma\"].value\n",
        "    sigma= params[\"sigma\"].value\n",
        "    tau=x[1]-x[0]\n",
        "    S=np.empty(n+1)\n",
        "    I=np.empty(n+1)\n",
        "    R=np.empty(n+1)\n",
        "    D=np.empty(n+1)\n",
        "    P=np.ones(n+1)\n",
        "    for i in range(tc,tc+eps+1):\n",
        "      P[i]=1+(pp-1)*(i-tc)/eps \n",
        "    for i in range(tc+eps+1,n+1):\n",
        "      P[i]=pp \n",
        "    S[0]=y0[0]\n",
        "    I[0]=y0[1]\n",
        "    R[0]=y0[2]\n",
        "    D[0]=y0[3]\n",
        "    theta=(S[0]/N)**(P[0]-1)\n",
        "    for k in range(n):\n",
        "        Err=1\n",
        "        II=I[k]\n",
        "        theta=(S[k]/N)**(P[k]-1)\n",
        "        while Err>1e-10:\n",
        "            root=np.sqrt((tau*(gamma+sigma)+1.-tau*(beta/N)*(S[k]+I[k])*theta)**2+(4*tau*(beta/N)*(tau*(gamma+sigma)+1)*theta*I[k]))\n",
        "            rest=(tau*(gamma+sigma)+1)-tau*(beta/N)*(S[k]+I[k])*theta\n",
        "            den=2*tau*(beta/N)*(1.+tau*(gamma+sigma))*theta\n",
        "            III=(root-rest)/den\n",
        "            SS=S[k]/(1.+(tau*(beta/N)*III*theta))\n",
        "            RR=R[k]+tau*gamma*III\n",
        "            DD=D[k]+tau*sigma*III\n",
        "            theta1=(SS/N)**(P[k+1]-1)\n",
        "            #Err=abs(II-III)\n",
        "            Err=abs(theta-theta1)\n",
        "            II=III\n",
        "            theta=theta1\n",
        "            #print(Err)\n",
        "        S[k+1],I[k+1],R[k+1],D[k+1]=SS,II,RR,DD\n",
        "        #print(\"===========================================================================\")\n",
        "    S=S[1:].tolist()\n",
        "    I=I[1:].tolist()\n",
        "    R=R[1:].tolist()\n",
        "    D=D[1:].tolist()\n",
        "    return np.array([S,I,R,D])"
      ],
      "execution_count": 0,
      "outputs": []
    },
    {
      "cell_type": "code",
      "metadata": {
        "colab_type": "code",
        "id": "IyCvj6Nthmta",
        "outputId": "71eefbaf-9558-4c63-fdcf-147bc81152ff",
        "scrolled": true,
        "colab": {
          "base_uri": "https://localhost:8080/",
          "height": 311
        }
      },
      "source": [
        "%%time\n",
        "#Resolution using fahdFix\n",
        "tau=0.1\n",
        "tc=int(30/tau)#confinement\n",
        "eps=10\n",
        "n=x.size\n",
        "#print(P)\n",
        "yf=fahdFix(fit_params,x,y0)\n",
        "#Plot estimated data using Mr karami's Algorithm\n",
        "#plt.plot(yf[0],linestyle='dotted', label=\"Sr\",color='blue')\n",
        "plt.plot(yf[1],linestyle='dotted', label=\"Is\",color='red')\n",
        "plt.plot(yf[2],linestyle='dotted',label=\"Rs\", color='green')\n",
        "plt.plot(yf[3],linestyle='dotted',label=\"Ds\", color='gray')\n",
        "\n",
        "#plt.legend()"
      ],
      "execution_count": 23,
      "outputs": [
        {
          "output_type": "stream",
          "text": [
            "CPU times: user 49.5 ms, sys: 1.88 ms, total: 51.3 ms\n",
            "Wall time: 54.3 ms\n"
          ],
          "name": "stdout"
        },
        {
          "output_type": "display_data",
          "data": {
            "image/png": "[encoded data removed]",
            "text/plain": [
              "<Figure size 432x288 with 1 Axes>"
            ]
          },
          "metadata": {
            "tags": [],
            "needs_background": "light"
          }
        }
      ]
    },
    {
      "cell_type": "code",
      "metadata": {
        "colab_type": "code",
        "id": "2DnQfJbim0nH",
        "colab": {}
      },
      "source": [
        "def objective(params,f,x,data,y0):\n",
        "    # Initial number of infected and recovered individuals, I0 and R0.\n",
        "    ndata, _ = data.shape\n",
        "    resid = 0.0*data[:]\n",
        "    ret=f(params,x,y0)\n",
        "    \n",
        "    for i in range(ndata):\n",
        "        resid[i, :] = data[i, :] - ret[i,:]\n",
        "    return resid.flatten()"
      ],
      "execution_count": 0,
      "outputs": []
    },
    {
      "cell_type": "code",
      "metadata": {
        "colab_type": "code",
        "id": "L2K6t31R2VK6",
        "colab": {}
      },
      "source": [
        "\n",
        "y0=[N-1,1,0,0]\n",
        "tau = .01\n",
        "tc= 30                #26   said depart #confinement\n",
        "eps=8                #2 said \n",
        "n=data.T.shape[0]\n",
        "X=np.linspace(tau,n,int(n/tau))\n",
        "npArray = np.arange(0,int(n/tau) , int(1/tau))\n",
        "yyy=X[npArray]\n",
        "\n",
        "outf = minimize(objective, fit_params, method='Nelder-Mead',tol=1e-10, args=(fahdFix,yyy,data,y0))\n",
        "out = minimize(objective, fit_params,  args=(f,yyy,data,y0))\n",
        "\n",
        "#report_fit(out.params)\n",
        "report_fit(outf.params)\n",
        "y=f(out.params,yyy,[N-1,1,0,0])\n",
        "yf=fahdFix(outf.params,yyy,[N-1,1,0,0])\n",
        "\n",
        "\n",
        "plt.subplot(2, 2, 1)\n",
        "plt.plot(data[0],label=\"Sr\", color='blue')\n",
        "#plt.plot(yyy,y[0], label=\"Sr\",linestyle='dashed',color='blue')\n",
        "plt.plot(yyy,yf[0],linestyle='dotted', label=\"Sr\",color='blue')\n",
        "\n",
        "plt.subplot(2, 2, 2)\n",
        "plt.plot(data[1],label=\"Ir\", color='red')\n",
        "plt.plot(yyy,y[1], label=\"Is\",linestyle='dashed',color='red')\n",
        "plt.plot(yyy,yf[1],linestyle='dotted', label=\"Is\",color='red')\n",
        "\n",
        "plt.subplot(2, 2, 3)\n",
        "plt.plot(data[2],label=\"Rr\", color='green')\n",
        "plt.plot(yyy,y[2],label=\"Rs\",linestyle='dashed', color='green')\n",
        "plt.plot(yyy,yf[2],linestyle='dotted',label=\"Rs\", color='green')\n",
        "\n",
        "plt.subplot(2, 2, 4)\n",
        "plt.plot(data[3],label=\"Dr\", color='gray')\n",
        "plt.plot(yyy,y[3],label=\"Ds\",linestyle='dashed', color='gray')\n",
        "plt.plot(yyy,yf[3],linestyle='dotted',label=\"Ds\", color='gray')\n",
        "print(\"===========================================\")\n",
        "\n",
        "\n",
        "#print(y.shape,yf.shape,data.shape)\n",
        "plt.legend()\n",
        "\n",
        "\n"
      ],
      "execution_count": 0,
      "outputs": []
    },
    {
      "cell_type": "code",
      "metadata": {
        "id": "BaSXqRitol8k",
        "colab_type": "code",
        "outputId": "a1c40274-5e74-4bf1-9636-065b00719911",
        "colab": {
          "base_uri": "https://localhost:8080/",
          "height": 317
        }
      },
      "source": [
        "R00=out.params[\"beta\"].value/(out.params[\"sigma\"].value+out.params[\"gamma\"].value)\n",
        "R0=outf.params[\"beta\"].value/(outf.params[\"sigma\"].value+outf.params[\"gamma\"].value)\n",
        "\n",
        "n=yyy.size\n",
        "print(n)\n",
        "pp=outf.params[\"p\"].value\n",
        "P=np.ones(n)\n",
        "for i in range(tc,tc+eps+1):\n",
        "  P[i]=1+(pp-1)*(i-tc)/eps \n",
        "for i in range(tc+eps+1,n):\n",
        "  P[i]=pp \n",
        "rt=R0*(yf[0]/N)**P\n",
        "rtt=R00*(y[0]/N)**20\n",
        "plt.figure()\n",
        "plt.subplot(1, 2, 1)\n",
        "plt.plot(rt,label='Rpt')\n",
        "plt.subplot(1, 2, 2)\n",
        "plt.plot(rtt,label='Rptt')\n",
        "print(R00, R0)\n",
        "plt.legend()\n"
      ],
      "execution_count": 0,
      "outputs": [
        {
          "output_type": "stream",
          "text": [
            "99\n",
            "1.0579152888384609 4.956399705782881\n"
          ],
          "name": "stdout"
        },
        {
          "output_type": "execute_result",
          "data": {
            "text/plain": [
              "<matplotlib.legend.Legend at 0x7f3f4c4fe6d8>"
            ]
          },
          "metadata": {
            "tags": []
          },
          "execution_count": 39
        },
        {
          "output_type": "display_data",
          "data": {
            "image/png": "[encoded data removed]",
            "text/plain": [
              "<Figure size 432x288 with 2 Axes>"
            ]
          },
          "metadata": {
            "tags": [],
            "needs_background": "light"
          }
        }
      ]
    },
    {
      "cell_type": "code",
      "metadata": {
        "id": "WmGDzxPQoaPL",
        "colab_type": "code",
        "outputId": "de58b4f0-f269-4ae8-feab-48acf9fc59c8",
        "colab": {
          "base_uri": "https://localhost:8080/",
          "height": 429
        }
      },
      "source": [
        "print(data[0,1:55])\n",
        "plt.plot(data[0,1:35],label=\"Sr\", color='blue')\n",
        "#plt.plot(data[1,1:35],label=\"Ir\", color='red')\n",
        "#plt.plot(data[2,1:35],label=\"Rr\", color='green')\n",
        "#plt.plot(data[3,1:35],label=\"Dr\", color='gray')"
      ],
      "execution_count": 0,
      "outputs": [
        {
          "output_type": "stream",
          "text": [
            "[27999999. 27999998. 27999998. 27999998. 27999998. 27999998. 27999997.\n",
            " 27999995. 27999994. 27999993. 27999983. 27999972. 27999971. 27999962.\n",
            " 27999951. 27999937. 27999923. 27999904. 27999885. 27999857. 27999830.\n",
            " 27999775. 27999725. 27999655. 27999598. 27999521. 27999444. 27999383.\n",
            " 27999346. 27999292. 27999209. 27999081. 27998979. 27998880. 27998816.\n",
            " 27998725. 27998626. 27998552. 27998455. 27998339. 27998237. 27998112.\n",
            " 27997976. 27997717. 27997436. 27997315. 27997145. 27996954. 27996791.\n",
            " 27996554. 27996432. 27996242. 27996103. 27995935.]\n"
          ],
          "name": "stdout"
        },
        {
          "output_type": "execute_result",
          "data": {
            "text/plain": [
              "[<matplotlib.lines.Line2D at 0x7f68f1a83d30>]"
            ]
          },
          "metadata": {
            "tags": []
          },
          "execution_count": 167
        },
        {
          "output_type": "display_data",
          "data": {
            "image/png": "[encoded data removed]",
            "text/plain": [
              "<Figure size 432x288 with 1 Axes>"
            ]
          },
          "metadata": {
            "tags": [],
            "needs_background": "light"
          }
        }
      ]
    },
    {
      "cell_type": "markdown",
      "metadata": {
        "id": "zT2OOAYdsvUY",
        "colab_type": "text"
      },
      "source": [
        "# Etape1:\n",
        "Teste 1:  \n",
        "presentation du caractère exponentielle dans les premiers 15 jours \n",
        "de l'épédimie  par paquet (Italy espagne france allemagne ) +(maroc algérie egypte afrique du sud) +(Chilie brazil mexique iran)\n",
        "\n",
        "mettre en evidence le caractère exponenetille de l'épedemie\n",
        "\n",
        "\n",
        "\n",
        "\n",
        "\n"
      ]
    },
    {
      "cell_type": "code",
      "metadata": {
        "id": "mcAU0DQiRJUF",
        "colab_type": "code",
        "colab": {}
      },
      "source": [
        ""
      ],
      "execution_count": 0,
      "outputs": []
    },
    {
      "cell_type": "markdown",
      "metadata": {
        "id": "DYZMtGbvs0M0",
        "colab_type": "text"
      },
      "source": [
        "#Etape 2:\n",
        "Test2: lancer SIR classique sur les premiers 15 jours, fitter sur les données, resuperer $ \\alpha, \\beta, et \\gamma $ en suite tracer les courbes SIR et les SIRP en variant les p $p=10 , 100, 50000$\n",
        "L'impact de $p$ est du confinement  et l et voir  l impact de la puissance \n",
        "\n",
        "\n",
        "\n"
      ]
    },
    {
      "cell_type": "code",
      "metadata": {
        "id": "GthgXpQtRL0O",
        "colab_type": "code",
        "colab": {}
      },
      "source": [
        ""
      ],
      "execution_count": 0,
      "outputs": []
    },
    {
      "cell_type": "markdown",
      "metadata": {
        "id": "0IxZOOMFs-ko",
        "colab_type": "text"
      },
      "source": [
        "# Etape3\n",
        "Dans le test 3 on fit notre modèle et nous recuperons les nouveaux parametre $\\alpha, \\beta, \\gamma et p $.\n",
        "Nous fittons egalement SIR.\n",
        "\n",
        "Comparer d'abord fitting de notre modele et du modèle SIR.\n",
        "mettre en evidence que le fitting avec notre modèle donne meilleure resultasts vu qu il prend en considération la distanciation social( indicateur de fitting).\n",
        "(Donner plus d'importance et donnée recente)\n",
        "\n",
        "\n",
        "Tracer le $R_p(t)$ pour chaque pays \n",
        "\n",
        "Mesuré l'impact du confinement en comparant notre modèle  avec (SIR avec les parametres $(\\alpha, \\beta, \\gamma)$ de l'etape 2)\n",
        "-"
      ]
    }
  ]
}